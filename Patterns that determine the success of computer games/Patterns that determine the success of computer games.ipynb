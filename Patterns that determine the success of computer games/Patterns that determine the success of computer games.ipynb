{
 "cells": [
  {
   "cell_type": "markdown",
   "metadata": {},
   "source": [
    "# Закономерности, определяющие успешность компьютерных игр"
   ]
  },
  {
   "cell_type": "markdown",
   "metadata": {},
   "source": [
    "## Описание проекта"
   ]
  },
  {
   "cell_type": "markdown",
   "metadata": {},
   "source": [
    "Интернет-магазин «Стримчик» продаёт по всему миру компьютерные игры. Из открытых источников доступны исторические данные о продажах игр, оценки пользователей и экспертов, жанры и платформы (например, Xbox или PlayStation). Нужно выявить определяющие успешность игры закономерности. Это позволит сделать ставку на потенциально популярный продукт и спланировать рекламные кампании.\n",
    "У нас есть данные до 2016 года. Представим, что сейчас декабрь 2016 г., и мы планируем кампанию на 2017-й. Нужно отработать принцип работы с данными. Не важно, прогнозируем ли мы продажи на 2017 год по данным 2016-го или же 2027-й — по данным 2026 года.\n",
    "В наборе данных попадается аббревиатура ESRB (Entertainment Software Rating Board) — это ассоциация, определяющая возрастной рейтинг компьютерных игр. ESRB оценивает игровой контент и присваивает ему подходящую возрастную категорию, например, «Для взрослых», «Для детей младшего возраста» или «Для подростков»."
   ]
  },
  {
   "cell_type": "markdown",
   "metadata": {},
   "source": [
    "### План работы"
   ]
  },
  {
   "cell_type": "markdown",
   "metadata": {},
   "source": [
    "1. Открыть файл с данными и изучить общую информацию\n",
    "2. Подготовить данные: \n",
    " *  заменить названия столбцов (привести к нижнему регистру);\n",
    " *  преобразовать данные в нужные типы. Описать, в каких столбцах заменен тип данных и почему;\n",
    " *  обработать пропуски при необходимости: объяснить, почему заполнены пропуски определённым образом или почему не заполнены;\n",
    " *  описать причины, которые могли привести к пропускам;\n",
    " *  отдельно разобрать аббревиатуру 'tbd' в столбцах с рейтингом, описать, как его обработать;\n",
    " *  посчитать суммарные продажи во всех регионах и записать их в отдельный столбец.\n",
    "3. Провести исследовательский анализ данных:\n",
    " *  посмотреть, сколько игр выпускалось в разные годы и важны ли данные за все периоды;\n",
    " *  изучить, как менялись продажи по платформам. Выбрать платформы с наибольшими суммарными продажами и построить распределение по годам. Выяснить, за какой характерный срок появляются новые и исчезают старые платформы;\n",
    " *  взять данные за соответствующий актуальный период. Актуальный период определить самостоятельно в результате исследования предыдущих вопросов. Основной фактор — эти данные помогут построить прогноз на 2017 год. Не будем учитывать в работе данные за предыдущие годы;\n",
    " *  выяснить, какие платформы лидируют по продажам, растут или падают. Выбрать несколько потенциально прибыльных платформ. Построить график «ящик с усами» по глобальным продажам каждой игры и разбивкой по платформам. Выяснить, велика ли разница в продажах, в средних продажах на разных платформах. Описать результат;\n",
    " *  посмотреть, как влияют на продажи внутри одной популярной платформы отзывы пользователей и критиков. Построить диаграмму рассеяния и посчитать корреляцию между отзывами и продажами. Сформулировать выводы;\n",
    " *  соотнести выводы с продажами игр на других платформах;\n",
    " *  посмотреть на общее распределение игр по жанрам. Выяснить, что можно сказать о самых прибыльных жанрах, выделяются ли жанры с высокими и низкими продажами.\n",
    "4. Составить портрет пользователя каждого региона. Определить для пользователя каждого региона (NA, EU, JP):\n",
    " *  самые популярные платформы (топ-5), описать различия в долях продаж;\n",
    " *  самые популярные жанры (топ-5), пояснить разницу;\n",
    " *  выяснить, влияет ли рейтинг ESRB на продажи в отдельном регионе.\n",
    "5. Проверить гипотезы:\n",
    " *  средние пользовательские рейтинги платформ Xbox One и PC одинаковые;\n",
    " *  средние пользовательские рейтинги жанров Action (англ. «действие») и Sports (англ. «виды спорта») разные.\n",
    " \n",
    "       Задать самостоятельно пороговое значение alpha. Пояснить, как флормулировались нулевая и альтернативная гипотезы; какой \n",
    "       критерий применен для проверки гипотез и почему.\n",
    "6. Написать общий вывод"
   ]
  },
  {
   "cell_type": "markdown",
   "metadata": {},
   "source": [
    "### Шаг 1. Открытие файла с данными и изучение общей информации"
   ]
  },
  {
   "cell_type": "code",
   "execution_count": 44,
   "metadata": {},
   "outputs": [],
   "source": [
    "import pandas as pd #импортируем библиотеки\n",
    "import numpy as np\n",
    "from pymystem3 import Mystem\n",
    "m = Mystem()\n",
    "import matplotlib\n",
    "import matplotlib.pyplot as plt\n",
    "import plotly as py\n",
    "from scipy import stats as st"
   ]
  },
  {
   "cell_type": "code",
   "execution_count": 45,
   "metadata": {},
   "outputs": [],
   "source": [
    "#прочитаем файл, присвоим таблице имя\n",
    "games = pd.read_csv('/datasets/games.csv') \n",
    "games.to_csv('games')"
   ]
  },
  {
   "cell_type": "code",
   "execution_count": 46,
   "metadata": {},
   "outputs": [
    {
     "name": "stdout",
     "output_type": "stream",
     "text": [
      "<class 'pandas.core.frame.DataFrame'>\n",
      "RangeIndex: 16715 entries, 0 to 16714\n",
      "Data columns (total 11 columns):\n",
      "Name               16713 non-null object\n",
      "Platform           16715 non-null object\n",
      "Year_of_Release    16446 non-null float64\n",
      "Genre              16713 non-null object\n",
      "NA_sales           16715 non-null float64\n",
      "EU_sales           16715 non-null float64\n",
      "JP_sales           16715 non-null float64\n",
      "Other_sales        16715 non-null float64\n",
      "Critic_Score       8137 non-null float64\n",
      "User_Score         10014 non-null object\n",
      "Rating             9949 non-null object\n",
      "dtypes: float64(6), object(5)\n",
      "memory usage: 1.4+ MB\n"
     ]
    }
   ],
   "source": [
    "games.info() #посмотрим общую информацию о таблице"
   ]
  },
  {
   "cell_type": "code",
   "execution_count": 47,
   "metadata": {},
   "outputs": [
    {
     "data": {
      "text/html": [
       "<div>\n",
       "<style scoped>\n",
       "    .dataframe tbody tr th:only-of-type {\n",
       "        vertical-align: middle;\n",
       "    }\n",
       "\n",
       "    .dataframe tbody tr th {\n",
       "        vertical-align: top;\n",
       "    }\n",
       "\n",
       "    .dataframe thead th {\n",
       "        text-align: right;\n",
       "    }\n",
       "</style>\n",
       "<table border=\"1\" class=\"dataframe\">\n",
       "  <thead>\n",
       "    <tr style=\"text-align: right;\">\n",
       "      <th></th>\n",
       "      <th>Name</th>\n",
       "      <th>Platform</th>\n",
       "      <th>Year_of_Release</th>\n",
       "      <th>Genre</th>\n",
       "      <th>NA_sales</th>\n",
       "      <th>EU_sales</th>\n",
       "      <th>JP_sales</th>\n",
       "      <th>Other_sales</th>\n",
       "      <th>Critic_Score</th>\n",
       "      <th>User_Score</th>\n",
       "      <th>Rating</th>\n",
       "    </tr>\n",
       "  </thead>\n",
       "  <tbody>\n",
       "    <tr>\n",
       "      <td>0</td>\n",
       "      <td>Wii Sports</td>\n",
       "      <td>Wii</td>\n",
       "      <td>2006.0</td>\n",
       "      <td>Sports</td>\n",
       "      <td>41.36</td>\n",
       "      <td>28.96</td>\n",
       "      <td>3.77</td>\n",
       "      <td>8.45</td>\n",
       "      <td>76.0</td>\n",
       "      <td>8</td>\n",
       "      <td>E</td>\n",
       "    </tr>\n",
       "    <tr>\n",
       "      <td>1</td>\n",
       "      <td>Super Mario Bros.</td>\n",
       "      <td>NES</td>\n",
       "      <td>1985.0</td>\n",
       "      <td>Platform</td>\n",
       "      <td>29.08</td>\n",
       "      <td>3.58</td>\n",
       "      <td>6.81</td>\n",
       "      <td>0.77</td>\n",
       "      <td>NaN</td>\n",
       "      <td>NaN</td>\n",
       "      <td>NaN</td>\n",
       "    </tr>\n",
       "    <tr>\n",
       "      <td>2</td>\n",
       "      <td>Mario Kart Wii</td>\n",
       "      <td>Wii</td>\n",
       "      <td>2008.0</td>\n",
       "      <td>Racing</td>\n",
       "      <td>15.68</td>\n",
       "      <td>12.76</td>\n",
       "      <td>3.79</td>\n",
       "      <td>3.29</td>\n",
       "      <td>82.0</td>\n",
       "      <td>8.3</td>\n",
       "      <td>E</td>\n",
       "    </tr>\n",
       "    <tr>\n",
       "      <td>3</td>\n",
       "      <td>Wii Sports Resort</td>\n",
       "      <td>Wii</td>\n",
       "      <td>2009.0</td>\n",
       "      <td>Sports</td>\n",
       "      <td>15.61</td>\n",
       "      <td>10.93</td>\n",
       "      <td>3.28</td>\n",
       "      <td>2.95</td>\n",
       "      <td>80.0</td>\n",
       "      <td>8</td>\n",
       "      <td>E</td>\n",
       "    </tr>\n",
       "    <tr>\n",
       "      <td>4</td>\n",
       "      <td>Pokemon Red/Pokemon Blue</td>\n",
       "      <td>GB</td>\n",
       "      <td>1996.0</td>\n",
       "      <td>Role-Playing</td>\n",
       "      <td>11.27</td>\n",
       "      <td>8.89</td>\n",
       "      <td>10.22</td>\n",
       "      <td>1.00</td>\n",
       "      <td>NaN</td>\n",
       "      <td>NaN</td>\n",
       "      <td>NaN</td>\n",
       "    </tr>\n",
       "    <tr>\n",
       "      <td>5</td>\n",
       "      <td>Tetris</td>\n",
       "      <td>GB</td>\n",
       "      <td>1989.0</td>\n",
       "      <td>Puzzle</td>\n",
       "      <td>23.20</td>\n",
       "      <td>2.26</td>\n",
       "      <td>4.22</td>\n",
       "      <td>0.58</td>\n",
       "      <td>NaN</td>\n",
       "      <td>NaN</td>\n",
       "      <td>NaN</td>\n",
       "    </tr>\n",
       "    <tr>\n",
       "      <td>6</td>\n",
       "      <td>New Super Mario Bros.</td>\n",
       "      <td>DS</td>\n",
       "      <td>2006.0</td>\n",
       "      <td>Platform</td>\n",
       "      <td>11.28</td>\n",
       "      <td>9.14</td>\n",
       "      <td>6.50</td>\n",
       "      <td>2.88</td>\n",
       "      <td>89.0</td>\n",
       "      <td>8.5</td>\n",
       "      <td>E</td>\n",
       "    </tr>\n",
       "    <tr>\n",
       "      <td>7</td>\n",
       "      <td>Wii Play</td>\n",
       "      <td>Wii</td>\n",
       "      <td>2006.0</td>\n",
       "      <td>Misc</td>\n",
       "      <td>13.96</td>\n",
       "      <td>9.18</td>\n",
       "      <td>2.93</td>\n",
       "      <td>2.84</td>\n",
       "      <td>58.0</td>\n",
       "      <td>6.6</td>\n",
       "      <td>E</td>\n",
       "    </tr>\n",
       "    <tr>\n",
       "      <td>8</td>\n",
       "      <td>New Super Mario Bros. Wii</td>\n",
       "      <td>Wii</td>\n",
       "      <td>2009.0</td>\n",
       "      <td>Platform</td>\n",
       "      <td>14.44</td>\n",
       "      <td>6.94</td>\n",
       "      <td>4.70</td>\n",
       "      <td>2.24</td>\n",
       "      <td>87.0</td>\n",
       "      <td>8.4</td>\n",
       "      <td>E</td>\n",
       "    </tr>\n",
       "    <tr>\n",
       "      <td>9</td>\n",
       "      <td>Duck Hunt</td>\n",
       "      <td>NES</td>\n",
       "      <td>1984.0</td>\n",
       "      <td>Shooter</td>\n",
       "      <td>26.93</td>\n",
       "      <td>0.63</td>\n",
       "      <td>0.28</td>\n",
       "      <td>0.47</td>\n",
       "      <td>NaN</td>\n",
       "      <td>NaN</td>\n",
       "      <td>NaN</td>\n",
       "    </tr>\n",
       "  </tbody>\n",
       "</table>\n",
       "</div>"
      ],
      "text/plain": [
       "                        Name Platform  Year_of_Release         Genre  \\\n",
       "0                 Wii Sports      Wii           2006.0        Sports   \n",
       "1          Super Mario Bros.      NES           1985.0      Platform   \n",
       "2             Mario Kart Wii      Wii           2008.0        Racing   \n",
       "3          Wii Sports Resort      Wii           2009.0        Sports   \n",
       "4   Pokemon Red/Pokemon Blue       GB           1996.0  Role-Playing   \n",
       "5                     Tetris       GB           1989.0        Puzzle   \n",
       "6      New Super Mario Bros.       DS           2006.0      Platform   \n",
       "7                   Wii Play      Wii           2006.0          Misc   \n",
       "8  New Super Mario Bros. Wii      Wii           2009.0      Platform   \n",
       "9                  Duck Hunt      NES           1984.0       Shooter   \n",
       "\n",
       "   NA_sales  EU_sales  JP_sales  Other_sales  Critic_Score User_Score Rating  \n",
       "0     41.36     28.96      3.77         8.45          76.0          8      E  \n",
       "1     29.08      3.58      6.81         0.77           NaN        NaN    NaN  \n",
       "2     15.68     12.76      3.79         3.29          82.0        8.3      E  \n",
       "3     15.61     10.93      3.28         2.95          80.0          8      E  \n",
       "4     11.27      8.89     10.22         1.00           NaN        NaN    NaN  \n",
       "5     23.20      2.26      4.22         0.58           NaN        NaN    NaN  \n",
       "6     11.28      9.14      6.50         2.88          89.0        8.5      E  \n",
       "7     13.96      9.18      2.93         2.84          58.0        6.6      E  \n",
       "8     14.44      6.94      4.70         2.24          87.0        8.4      E  \n",
       "9     26.93      0.63      0.28         0.47           NaN        NaN    NaN  "
      ]
     },
     "execution_count": 47,
     "metadata": {},
     "output_type": "execute_result"
    }
   ],
   "source": [
    "games.head(10) #выведем первые 10 строк"
   ]
  },
  {
   "cell_type": "markdown",
   "metadata": {},
   "source": [
    "Таблица содержит столбцы:\n",
    "\n",
    " * Name — название игры\n",
    " * Platform — платформа\n",
    " * Year_of_Release — год выпуска\n",
    " * Genre — жанр игры\n",
    " * NA_sales — продажи в Северной Америке (миллионы долларов)\n",
    " * EU_sales — продажи в Европе (миллионы долларов)\n",
    " * JP_sales — продажи в Японии (миллионы долларов)\n",
    " * Other_sales — продажи в других странах (миллионы долларов)\n",
    " * Critic_Score — оценка критиков (максимум 100)\n",
    " * User_Score — оценка пользователей (максимум 10)\n",
    " * Rating — рейтинг от организации ESRB (англ. Entertainment Software Rating Board). Эта ассоциация определяет рейтинг компьютерных игр и присваивает им подходящую возрастную категорию."
   ]
  },
  {
   "cell_type": "markdown",
   "metadata": {},
   "source": [
    "### Шаг 2. Подготовка данных"
   ]
  },
  {
   "cell_type": "code",
   "execution_count": 48,
   "metadata": {},
   "outputs": [],
   "source": [
    "#приведем названия столбцов к нижнему регистру\n",
    "games.columns = games.columns.str.lower()"
   ]
  },
  {
   "cell_type": "markdown",
   "metadata": {},
   "source": [
    "Названия столбцов содержат символы как в нижнем, так и в верхнем регистре. Их нужно привести к нижнему регистру методом str.lower()."
   ]
  },
  {
   "cell_type": "code",
   "execution_count": 49,
   "metadata": {
    "scrolled": true
   },
   "outputs": [
    {
     "name": "stdout",
     "output_type": "stream",
     "text": [
      "      name platform  year_of_release genre  na_sales  eu_sales  jp_sales  \\\n",
      "659    NaN      GEN           1993.0   NaN      1.78      0.53      0.00   \n",
      "14244  NaN      GEN           1993.0   NaN      0.00      0.00      0.03   \n",
      "\n",
      "       other_sales  critic_score user_score rating  \n",
      "659           0.08           NaN        NaN    NaN  \n",
      "14244         0.00           NaN        NaN    NaN  \n"
     ]
    }
   ],
   "source": [
    "#посмотрим количество пропусков в столбцах\n",
    "games.isnull().sum()\n",
    "\n",
    "#найдем строки с пропусками в столбце name\n",
    "np.where(pd.isnull(games['name']))\n",
    "\n",
    "#посмотрим строки с пропущенными названиями\n",
    "print(games.loc[[659 , 14244]])\n",
    "\n",
    "#удалим строки с пропущенными названиями и жанром\n",
    "games.dropna(subset = ['name'], inplace = True)"
   ]
  },
  {
   "cell_type": "markdown",
   "metadata": {},
   "source": [
    "Посмотрим количество пропусков методом isnull().sum(). Пропуски содержат столбцы: name(2), year_of_release(269), genre(2), critic_score(8578), user_score(6701), rating(6766). \n",
    "\n",
    "Количество пропусков в столбцах с названием игры и жанром одинаковое, что позволяет предположить, что они находятся в одних и тех же строках. Проверим это, найдя строки с пропусками по имени. Так и есть: эти пропуски находятся в одной строке. Возможно, это следствие ошибки при выгрузке данных. Названия игр для данного исследования не имеют большого значения, а жанры важны, но поскольку строк с пропусками в названии жанра всего две, а восстановить жанр по данным других столбцов не представляется возможным ввиду наличия пропусков и в них, то эти две строки можно удалить методом dropna.\n",
    "\n",
    "Что касается пропусков в столбце со значениями рейтинга ESRB, в результате просмотра данных можно увидеть, что у одной и той же  серии игр, а порой даже у одной версии игр на разных платформах встречается разный рейтинг. Таким образом, заполнение пропусков по аналогиям в названиях было бы некорректным. Вероятно, это ошибка в выгрузке данных - нужно запросить их еще раз, а в данном случае лучше пропуски оставить без изменения."
   ]
  },
  {
   "cell_type": "code",
   "execution_count": 50,
   "metadata": {},
   "outputs": [],
   "source": [
    "#найдем строки с пропусками года выпуска\n",
    "np.where(pd.isnull(games['year_of_release']))\n",
    "\n",
    "#удалим строки с пропущенными годами\n",
    "games.dropna(subset = ['year_of_release'], inplace = True)"
   ]
  },
  {
   "cell_type": "markdown",
   "metadata": {},
   "source": [
    "Найдем и посмотрим строки с пропусками в годах выпуска. Вероятно, они также появились в результате ошибки при выгрузке данных. Пропуски в таких датах можно удалить, поскольку если пробовать восстанавливать их по названиям, то год, указанный в них, не всегда совпадает с действительным. Указать ошибочный год было бы хуже, чем не учитывать эти данные. Эти пропуски можно было бы корректно заполнить, имея расширенную базу по играм или запросив дополнительную информацию у поставщика данных."
   ]
  },
  {
   "cell_type": "code",
   "execution_count": 51,
   "metadata": {},
   "outputs": [],
   "source": [
    "#заменяем тип данных в столбце года\n",
    "games['year_of_release'] = games['year_of_release'].astype(int)"
   ]
  },
  {
   "cell_type": "markdown",
   "metadata": {},
   "source": [
    "Замену типа данных нужно произвести в столбце year_of_release (float на int), т.к.в указании года цифра после запятой не нужна. В столбцах с оценками (critic_score, user_score) важны цифры после запятой, поэтому столбец critic_score оставим, а столбец user_score нужно приводить к типу float, но после того, как разберемся со значениями tbd и пропусками."
   ]
  },
  {
   "cell_type": "code",
   "execution_count": 52,
   "metadata": {},
   "outputs": [],
   "source": [
    "#посмотрим, какие строки содержат значение tbd\n",
    "games[games['user_score'].astype(str).str.contains('tbd')]\n",
    "\n",
    "#заменим значения tbd на 0\n",
    "games.loc[games['user_score'] == 'tbd', 'user_score'] = 0\n",
    "\n",
    "#заменим Nan в столбцах с рейтингом на условное значение 0\n",
    "games['user_score'] = games['user_score'].fillna(value = '0')\n",
    "games['critic_score'] = games['critic_score'].fillna(value = '0')\n",
    "\n",
    "#заменим тип данных в столбцах оценки пользователей\n",
    "games['user_score'] = games['user_score'].astype(float)\n",
    "games['critic_score'] = games['critic_score'].astype(float)"
   ]
  },
  {
   "cell_type": "markdown",
   "metadata": {},
   "source": [
    "Столбец с рейтингом пользователей в 2424 строках содержаит аббревиатуру tbd. По-видимому, это нужно понимать как \"to be determined\" - будет определен позднее. Эти значения нужно заменить, трактуя их как пропуски, потому что они не дают нам никакой информации.\n",
    "\n",
    "Чтобы не терять другие данные, пропуски и значения tbd в столбцах с рейтингом можно заменить на какое-либо условное значение - например, на 0. Сделаем это присваиванием и методом fillna.\n",
    "\n",
    "Наконец, можно заменить тип данных в столбцах user_score и critic_score на float методом astype."
   ]
  },
  {
   "cell_type": "code",
   "execution_count": 53,
   "metadata": {},
   "outputs": [],
   "source": [
    "#сохраним в отдельный столбец суммарные продажи\n",
    "games['total_sales'] = games['na_sales'] + games['eu_sales'] + games['jp_sales'] + games['other_sales']"
   ]
  },
  {
   "cell_type": "markdown",
   "metadata": {},
   "source": [
    "Посчитатем суммарные продажи во всех регионах и запишем их в отдельный столбец total_sales."
   ]
  },
  {
   "cell_type": "markdown",
   "metadata": {},
   "source": [
    "### Шаг 3. Исследовательский анализ данных"
   ]
  },
  {
   "cell_type": "code",
   "execution_count": 54,
   "metadata": {},
   "outputs": [
    {
     "data": {
      "text/plain": [
       "<matplotlib.axes._subplots.AxesSubplot at 0x7f19cc40bd50>"
      ]
     },
     "execution_count": 54,
     "metadata": {},
     "output_type": "execute_result"
    },
    {
     "data": {
      "image/png": "[encoded data removed]",
      "text/plain": [
       "<Figure size 432x288 with 1 Axes>"
      ]
     },
     "metadata": {
      "needs_background": "light"
     },
     "output_type": "display_data"
    }
   ],
   "source": [
    "#построим сводную таблицу и график\n",
    "games.pivot_table(index='year_of_release', values=['total_sales'], aggfunc = 'count').plot()"
   ]
  },
  {
   "cell_type": "markdown",
   "metadata": {},
   "source": [
    "Посмотрим, сколько игр выпускалось в разные годы. Для этого сгруппируем таблицу по годам с помощью сводной таблицы. Видим, что данные содержат информацию с 1980 по 2016 год, количество игр возрастает вплоть до 2008 года, на который приходится максимальное значение. Далее происходит спад. \n",
    "\n",
    "Условно можно разделить данные на четыре периода:\n",
    " * 1980-1993 (продажи до 100 игр в год)\n",
    " * 1994-2005 (продажи от 100 до 1000 игр в год)\n",
    " * 2006-2011 (продажи свыше 1000 игр)\n",
    " * 2012-2016 (снова продажи до 1000)"
   ]
  },
  {
   "cell_type": "code",
   "execution_count": 55,
   "metadata": {},
   "outputs": [
    {
     "data": {
      "text/plain": [
       "<matplotlib.axes._subplots.AxesSubplot at 0x7f19f8448dd0>"
      ]
     },
     "execution_count": 55,
     "metadata": {},
     "output_type": "execute_result"
    },
    {
     "data": {
      "image/png": "[encoded data removed]",
      "text/plain": [
       "<Figure size 432x288 with 1 Axes>"
      ]
     },
     "metadata": {
      "needs_background": "light"
     },
     "output_type": "display_data"
    }
   ],
   "source": [
    "#построим графики для названий игр и продаж\n",
    "plot = (games\n",
    "       .groupby(['year_of_release'])\n",
    "       .agg({'name': 'count', 'total_sales': 'sum'})\n",
    "       .reset_index(level = 'year_of_release')\n",
    ")\n",
    "\n",
    "plot.plot(x = 'year_of_release', grid = True)"
   ]
  },
  {
   "cell_type": "markdown",
   "metadata": {},
   "source": [
    "Посмотрим, как менялись продажи с помощью распределения по годам. На нем мы видим, что подъем продаж начинается с 1994 года, а пик приходится на 2008. Появление игр имеет такой же тип графика, с чуть менее выраженным пиком. В период с 1980 до 1994 года примерно каждые 4 года появляются новые платформы, затем этот срок увеличивается, платформы живут от 8 до 12 лет. "
   ]
  },
  {
   "cell_type": "code",
   "execution_count": 56,
   "metadata": {},
   "outputs": [],
   "source": [
    "#сделаем срез по годам\n",
    "actual_games = games.query('year_of_release >= 2012')\n",
    "#print(actual_games)"
   ]
  },
  {
   "cell_type": "markdown",
   "metadata": {},
   "source": [
    "Исходя из количества продаж по периодам, за актуальный период можно принять предшествующее исследованию пятилетие. В данном случае, это будет период с 2012 по 2016 гг. \n",
    "Сделаем срез по данному периоду методом query() и сохраним его как actual_games."
   ]
  },
  {
   "cell_type": "code",
   "execution_count": 57,
   "metadata": {},
   "outputs": [
    {
     "data": {
      "text/html": [
       "<div>\n",
       "<style scoped>\n",
       "    .dataframe tbody tr th:only-of-type {\n",
       "        vertical-align: middle;\n",
       "    }\n",
       "\n",
       "    .dataframe tbody tr th {\n",
       "        vertical-align: top;\n",
       "    }\n",
       "\n",
       "    .dataframe thead th {\n",
       "        text-align: right;\n",
       "    }\n",
       "</style>\n",
       "<table border=\"1\" class=\"dataframe\">\n",
       "  <thead>\n",
       "    <tr style=\"text-align: right;\">\n",
       "      <th></th>\n",
       "      <th>platform</th>\n",
       "      <th>total_sales</th>\n",
       "    </tr>\n",
       "  </thead>\n",
       "  <tbody>\n",
       "    <tr>\n",
       "      <td>0</td>\n",
       "      <td>PS4</td>\n",
       "      <td>314.14</td>\n",
       "    </tr>\n",
       "    <tr>\n",
       "      <td>1</td>\n",
       "      <td>PS3</td>\n",
       "      <td>288.79</td>\n",
       "    </tr>\n",
       "    <tr>\n",
       "      <td>2</td>\n",
       "      <td>X360</td>\n",
       "      <td>236.54</td>\n",
       "    </tr>\n",
       "    <tr>\n",
       "      <td>3</td>\n",
       "      <td>3DS</td>\n",
       "      <td>194.61</td>\n",
       "    </tr>\n",
       "    <tr>\n",
       "      <td>4</td>\n",
       "      <td>XOne</td>\n",
       "      <td>159.32</td>\n",
       "    </tr>\n",
       "  </tbody>\n",
       "</table>\n",
       "</div>"
      ],
      "text/plain": [
       "  platform  total_sales\n",
       "0      PS4       314.14\n",
       "1      PS3       288.79\n",
       "2     X360       236.54\n",
       "3      3DS       194.61\n",
       "4     XOne       159.32"
      ]
     },
     "execution_count": 57,
     "metadata": {},
     "output_type": "execute_result"
    }
   ],
   "source": [
    "#построим сводную таблицу и график\n",
    "actual_games_pivot_plot = (actual_games\n",
    "    .pivot_table(index=['platform'], values=['total_sales'], aggfunc = 'sum')    \n",
    ")\n",
    "\n",
    "#отдельно сохраним 5 ведущих платформ\n",
    "leader_platform = actual_games_pivot_plot.sort_values(by = 'total_sales', ascending = False).reset_index().head(5)\n",
    "leader_platform"
   ]
  },
  {
   "cell_type": "markdown",
   "metadata": {},
   "source": [
    "Построим сводную таблицу и график по новому срезу данных. Видим, что по продажам лидируют платформы PS4, PS3, X360, 3DS, XOne.  Их можно считать потенциально прибыльными. "
   ]
  },
  {
   "cell_type": "code",
   "execution_count": 58,
   "metadata": {},
   "outputs": [
    {
     "data": {
      "text/plain": [
       "(0, 3)"
      ]
     },
     "execution_count": 58,
     "metadata": {},
     "output_type": "execute_result"
    },
    {
     "data": {
      "image/png": "[encoded data removed]",
      "text/plain": [
       "<Figure size 720x432 with 1 Axes>"
      ]
     },
     "metadata": {
      "needs_background": "light"
     },
     "output_type": "display_data"
    }
   ],
   "source": [
    "#построим ящик с усами для платформы PS4\n",
    "ax = (actual_games\n",
    "    .query('platform == \"PS4\"')\n",
    "    .boxplot('total_sales', by = 'platform', figsize = (10, 6))\n",
    ")\n",
    "ax.set_ylim(0, 3)"
   ]
  },
  {
   "cell_type": "markdown",
   "metadata": {},
   "source": [
    "Построим ящик с усами для платформы PS4. Медиана лежит примерно на значении 20 млн, а в целом продажи варьируются по сумме от 5 до 75 млн."
   ]
  },
  {
   "cell_type": "code",
   "execution_count": 59,
   "metadata": {},
   "outputs": [
    {
     "data": {
      "text/plain": [
       "(0, 3)"
      ]
     },
     "execution_count": 59,
     "metadata": {},
     "output_type": "execute_result"
    },
    {
     "data": {
      "image/png": "[encoded data removed]",
      "text/plain": [
       "<Figure size 720x432 with 1 Axes>"
      ]
     },
     "metadata": {
      "needs_background": "light"
     },
     "output_type": "display_data"
    }
   ],
   "source": [
    "#построим ящик с усами для платформы PS3\n",
    "ax = (actual_games\n",
    "    .query('platform == \"PS3\"')\n",
    "    .boxplot('total_sales', by = 'platform', figsize = (10, 6))\n",
    ")\n",
    "ax.set_ylim(0, 3)"
   ]
  },
  {
   "cell_type": "markdown",
   "metadata": {},
   "source": [
    "Построим ящик с усами для платформы PS3. Медиана лежит примерно на значении 20 млн, а в целом продажи варьируются по сумме от 5 до 60 млн."
   ]
  },
  {
   "cell_type": "code",
   "execution_count": 60,
   "metadata": {},
   "outputs": [
    {
     "data": {
      "text/plain": [
       "(0, 3)"
      ]
     },
     "execution_count": 60,
     "metadata": {},
     "output_type": "execute_result"
    },
    {
     "data": {
      "image/png": "[encoded data removed]",
      "text/plain": [
       "<Figure size 720x432 with 1 Axes>"
      ]
     },
     "metadata": {
      "needs_background": "light"
     },
     "output_type": "display_data"
    }
   ],
   "source": [
    "#построим ящик с усами для платформы X360\n",
    "ax = (actual_games\n",
    "    .query('platform == \"X360\"')\n",
    "    .boxplot('total_sales', by = 'platform', figsize = (10, 6))\n",
    ")\n",
    "ax.set_ylim(0, 3)"
   ]
  },
  {
   "cell_type": "markdown",
   "metadata": {},
   "source": [
    "Построим ящик с усами для платформы X360. Медиана лежит примерно на значении 30 млн, а в целом продажи варьируются по сумме от 15 до 85 млн."
   ]
  },
  {
   "cell_type": "code",
   "execution_count": 61,
   "metadata": {},
   "outputs": [
    {
     "data": {
      "text/plain": [
       "(0, 3)"
      ]
     },
     "execution_count": 61,
     "metadata": {},
     "output_type": "execute_result"
    },
    {
     "data": {
      "image/png": "[encoded data removed]",
      "text/plain": [
       "<Figure size 720x432 with 1 Axes>"
      ]
     },
     "metadata": {
      "needs_background": "light"
     },
     "output_type": "display_data"
    }
   ],
   "source": [
    "#построим ящик с усами для платформы 3DS\n",
    "ax = (actual_games\n",
    "    .query('platform == \"3DS\"')\n",
    "    .boxplot('total_sales', by = 'platform', figsize = (10, 6))\n",
    ")\n",
    "ax.set_ylim(0, 3)"
   ]
  },
  {
   "cell_type": "markdown",
   "metadata": {},
   "source": [
    "Построим ящик с усами для платформы 3DS. Медиана лежит примерно на значении 10 млн, а в целом продажи варьируются по сумме от 5 до 30 млн."
   ]
  },
  {
   "cell_type": "code",
   "execution_count": 62,
   "metadata": {},
   "outputs": [
    {
     "data": {
      "text/plain": [
       "(0, 3)"
      ]
     },
     "execution_count": 62,
     "metadata": {},
     "output_type": "execute_result"
    },
    {
     "data": {
      "image/png": "[encoded data removed]",
      "text/plain": [
       "<Figure size 720x432 with 1 Axes>"
      ]
     },
     "metadata": {
      "needs_background": "light"
     },
     "output_type": "display_data"
    }
   ],
   "source": [
    "#построим ящик с усами для платформы XOne\n",
    "ax = (actual_games\n",
    "    .query('platform == \"XOne\"')\n",
    "    .boxplot('total_sales', by = 'platform', figsize = (10, 6))\n",
    ")\n",
    "ax.set_ylim(0, 3)"
   ]
  },
  {
   "cell_type": "markdown",
   "metadata": {},
   "source": [
    "Построим ящик с усами для платформы XOne. Медиана лежит примерно на значении 20 млн, а в целом продажи варьируются по сумме от 5 до 70 млн."
   ]
  },
  {
   "cell_type": "markdown",
   "metadata": {},
   "source": [
    "На графикам «ящик с усами» по глобальным продажам игр на пяти ведущих платформах видим, что разница в продажах велика не везде. Больше всего выделяется по продажам в лучшую сторону платформа X360, а в худшую - платформа 3DS."
   ]
  },
  {
   "cell_type": "code",
   "execution_count": 63,
   "metadata": {},
   "outputs": [
    {
     "data": {
      "text/plain": [
       "year_of_release    2015.145408\n",
       "na_sales              0.277398\n",
       "eu_sales              0.359923\n",
       "jp_sales              0.040714\n",
       "other_sales           0.123342\n",
       "critic_score         46.344388\n",
       "user_score            4.424235\n",
       "total_sales           0.801378\n",
       "dtype: float64"
      ]
     },
     "execution_count": 63,
     "metadata": {},
     "output_type": "execute_result"
    }
   ],
   "source": [
    "#посмотрим средние значения по платформам\n",
    "actual_games.query('platform == \"PS4\"').mean()"
   ]
  },
  {
   "cell_type": "code",
   "execution_count": 64,
   "metadata": {},
   "outputs": [
    {
     "data": {
      "text/plain": [
       "year_of_release    2013.446247\n",
       "na_sales              0.209696\n",
       "eu_sales              0.216755\n",
       "jp_sales              0.071582\n",
       "other_sales           0.087748\n",
       "critic_score         31.064909\n",
       "user_score            3.750101\n",
       "total_sales           0.585781\n",
       "dtype: float64"
      ]
     },
     "execution_count": 64,
     "metadata": {},
     "output_type": "execute_result"
    }
   ],
   "source": [
    "actual_games.query('platform == \"PS3\"').mean()"
   ]
  },
  {
   "cell_type": "code",
   "execution_count": 65,
   "metadata": {},
   "outputs": [
    {
     "data": {
      "text/plain": [
       "year_of_release    2013.226027\n",
       "na_sales              0.479623\n",
       "eu_sales              0.255205\n",
       "jp_sales              0.005377\n",
       "other_sales           0.069863\n",
       "critic_score         41.503425\n",
       "user_score            5.006507\n",
       "total_sales           0.810068\n",
       "dtype: float64"
      ]
     },
     "execution_count": 65,
     "metadata": {},
     "output_type": "execute_result"
    }
   ],
   "source": [
    "actual_games.query('platform == \"X360\"').mean()"
   ]
  },
  {
   "cell_type": "code",
   "execution_count": 66,
   "metadata": {},
   "outputs": [
    {
     "data": {
      "text/plain": [
       "year_of_release    2013.750000\n",
       "na_sales              0.139672\n",
       "eu_sales              0.107677\n",
       "jp_sales              0.221692\n",
       "other_sales           0.022399\n",
       "critic_score         18.335859\n",
       "user_score            2.024747\n",
       "total_sales           0.491439\n",
       "dtype: float64"
      ]
     },
     "execution_count": 66,
     "metadata": {},
     "output_type": "execute_result"
    }
   ],
   "source": [
    "actual_games.query('platform == \"3DS\"').mean()"
   ]
  },
  {
   "cell_type": "code",
   "execution_count": 67,
   "metadata": {},
   "outputs": [
    {
     "data": {
      "text/plain": [
       "year_of_release    2014.951417\n",
       "na_sales              0.377004\n",
       "eu_sales              0.208866\n",
       "jp_sales              0.001377\n",
       "other_sales           0.057773\n",
       "critic_score         50.170040\n",
       "user_score            4.805263\n",
       "total_sales           0.645020\n",
       "dtype: float64"
      ]
     },
     "execution_count": 67,
     "metadata": {},
     "output_type": "execute_result"
    }
   ],
   "source": [
    "actual_games.query('platform == \"XOne\"').mean()"
   ]
  },
  {
   "cell_type": "markdown",
   "metadata": {},
   "source": [
    "Что касается средних продаж на разных платформах, то здесь тоже лидирует платформа Х360 (0,81 млн), близко к ней находится PS4 (0,80 млн). дальше по убыванию располагаются XOne (0,64), PS3 (0,58) и 3DS (0,49). То есть наблюдения подтверждаются."
   ]
  },
  {
   "cell_type": "code",
   "execution_count": 68,
   "metadata": {},
   "outputs": [
    {
     "data": {
      "text/html": [
       "<style  type=\"text/css\" >\n",
       "    #T_af40288c_5df3_11ea_b60f_02420a002c49row0_col0 {\n",
       "            background-color:  #b40426;\n",
       "            color:  #f1f1f1;\n",
       "        }    #T_af40288c_5df3_11ea_b60f_02420a002c49row0_col1 {\n",
       "            background-color:  #3b4cc0;\n",
       "            color:  #f1f1f1;\n",
       "        }    #T_af40288c_5df3_11ea_b60f_02420a002c49row0_col2 {\n",
       "            background-color:  #3b4cc0;\n",
       "            color:  #f1f1f1;\n",
       "        }    #T_af40288c_5df3_11ea_b60f_02420a002c49row0_col3 {\n",
       "            background-color:  #3b4cc0;\n",
       "            color:  #f1f1f1;\n",
       "        }    #T_af40288c_5df3_11ea_b60f_02420a002c49row0_col4 {\n",
       "            background-color:  #3b4cc0;\n",
       "            color:  #f1f1f1;\n",
       "        }    #T_af40288c_5df3_11ea_b60f_02420a002c49row0_col5 {\n",
       "            background-color:  #3b4cc0;\n",
       "            color:  #f1f1f1;\n",
       "        }    #T_af40288c_5df3_11ea_b60f_02420a002c49row0_col6 {\n",
       "            background-color:  #3b4cc0;\n",
       "            color:  #f1f1f1;\n",
       "        }    #T_af40288c_5df3_11ea_b60f_02420a002c49row0_col7 {\n",
       "            background-color:  #3b4cc0;\n",
       "            color:  #f1f1f1;\n",
       "        }    #T_af40288c_5df3_11ea_b60f_02420a002c49row1_col0 {\n",
       "            background-color:  #3b4cc0;\n",
       "            color:  #f1f1f1;\n",
       "        }    #T_af40288c_5df3_11ea_b60f_02420a002c49row1_col1 {\n",
       "            background-color:  #b40426;\n",
       "            color:  #f1f1f1;\n",
       "        }    #T_af40288c_5df3_11ea_b60f_02420a002c49row1_col2 {\n",
       "            background-color:  #ed8366;\n",
       "            color:  #000000;\n",
       "        }    #T_af40288c_5df3_11ea_b60f_02420a002c49row1_col3 {\n",
       "            background-color:  #dadce0;\n",
       "            color:  #000000;\n",
       "        }    #T_af40288c_5df3_11ea_b60f_02420a002c49row1_col4 {\n",
       "            background-color:  #b70d28;\n",
       "            color:  #f1f1f1;\n",
       "        }    #T_af40288c_5df3_11ea_b60f_02420a002c49row1_col5 {\n",
       "            background-color:  #93b5fe;\n",
       "            color:  #000000;\n",
       "        }    #T_af40288c_5df3_11ea_b60f_02420a002c49row1_col6 {\n",
       "            background-color:  #5e7de7;\n",
       "            color:  #000000;\n",
       "        }    #T_af40288c_5df3_11ea_b60f_02420a002c49row1_col7 {\n",
       "            background-color:  #bd1f2d;\n",
       "            color:  #f1f1f1;\n",
       "        }    #T_af40288c_5df3_11ea_b60f_02420a002c49row2_col0 {\n",
       "            background-color:  #455cce;\n",
       "            color:  #f1f1f1;\n",
       "        }    #T_af40288c_5df3_11ea_b60f_02420a002c49row2_col1 {\n",
       "            background-color:  #ec7f63;\n",
       "            color:  #000000;\n",
       "        }    #T_af40288c_5df3_11ea_b60f_02420a002c49row2_col2 {\n",
       "            background-color:  #b40426;\n",
       "            color:  #f1f1f1;\n",
       "        }    #T_af40288c_5df3_11ea_b60f_02420a002c49row2_col3 {\n",
       "            background-color:  #d9dce1;\n",
       "            color:  #000000;\n",
       "        }    #T_af40288c_5df3_11ea_b60f_02420a002c49row2_col4 {\n",
       "            background-color:  #dc5d4a;\n",
       "            color:  #000000;\n",
       "        }    #T_af40288c_5df3_11ea_b60f_02420a002c49row2_col5 {\n",
       "            background-color:  #92b4fe;\n",
       "            color:  #000000;\n",
       "        }    #T_af40288c_5df3_11ea_b60f_02420a002c49row2_col6 {\n",
       "            background-color:  #5b7ae5;\n",
       "            color:  #000000;\n",
       "        }    #T_af40288c_5df3_11ea_b60f_02420a002c49row2_col7 {\n",
       "            background-color:  #d1493f;\n",
       "            color:  #f1f1f1;\n",
       "        }    #T_af40288c_5df3_11ea_b60f_02420a002c49row3_col0 {\n",
       "            background-color:  #5673e0;\n",
       "            color:  #000000;\n",
       "        }    #T_af40288c_5df3_11ea_b60f_02420a002c49row3_col1 {\n",
       "            background-color:  #e6d7cf;\n",
       "            color:  #000000;\n",
       "        }    #T_af40288c_5df3_11ea_b60f_02420a002c49row3_col2 {\n",
       "            background-color:  #e0dbd8;\n",
       "            color:  #000000;\n",
       "        }    #T_af40288c_5df3_11ea_b60f_02420a002c49row3_col3 {\n",
       "            background-color:  #b40426;\n",
       "            color:  #f1f1f1;\n",
       "        }    #T_af40288c_5df3_11ea_b60f_02420a002c49row3_col4 {\n",
       "            background-color:  #ead5c9;\n",
       "            color:  #000000;\n",
       "        }    #T_af40288c_5df3_11ea_b60f_02420a002c49row3_col5 {\n",
       "            background-color:  #6c8ff1;\n",
       "            color:  #000000;\n",
       "        }    #T_af40288c_5df3_11ea_b60f_02420a002c49row3_col6 {\n",
       "            background-color:  #5673e0;\n",
       "            color:  #000000;\n",
       "        }    #T_af40288c_5df3_11ea_b60f_02420a002c49row3_col7 {\n",
       "            background-color:  #ead4c8;\n",
       "            color:  #000000;\n",
       "        }    #T_af40288c_5df3_11ea_b60f_02420a002c49row4_col0 {\n",
       "            background-color:  #3b4cc0;\n",
       "            color:  #f1f1f1;\n",
       "        }    #T_af40288c_5df3_11ea_b60f_02420a002c49row4_col1 {\n",
       "            background-color:  #b70d28;\n",
       "            color:  #f1f1f1;\n",
       "        }    #T_af40288c_5df3_11ea_b60f_02420a002c49row4_col2 {\n",
       "            background-color:  #dd5f4b;\n",
       "            color:  #000000;\n",
       "        }    #T_af40288c_5df3_11ea_b60f_02420a002c49row4_col3 {\n",
       "            background-color:  #dedcdb;\n",
       "            color:  #000000;\n",
       "        }    #T_af40288c_5df3_11ea_b60f_02420a002c49row4_col4 {\n",
       "            background-color:  #b40426;\n",
       "            color:  #f1f1f1;\n",
       "        }    #T_af40288c_5df3_11ea_b60f_02420a002c49row4_col5 {\n",
       "            background-color:  #96b7ff;\n",
       "            color:  #000000;\n",
       "        }    #T_af40288c_5df3_11ea_b60f_02420a002c49row4_col6 {\n",
       "            background-color:  #5e7de7;\n",
       "            color:  #000000;\n",
       "        }    #T_af40288c_5df3_11ea_b60f_02420a002c49row4_col7 {\n",
       "            background-color:  #b40426;\n",
       "            color:  #f1f1f1;\n",
       "        }    #T_af40288c_5df3_11ea_b60f_02420a002c49row5_col0 {\n",
       "            background-color:  #779af7;\n",
       "            color:  #000000;\n",
       "        }    #T_af40288c_5df3_11ea_b60f_02420a002c49row5_col1 {\n",
       "            background-color:  #c1d4f4;\n",
       "            color:  #000000;\n",
       "        }    #T_af40288c_5df3_11ea_b60f_02420a002c49row5_col2 {\n",
       "            background-color:  #bad0f8;\n",
       "            color:  #000000;\n",
       "        }    #T_af40288c_5df3_11ea_b60f_02420a002c49row5_col3 {\n",
       "            background-color:  #8badfd;\n",
       "            color:  #000000;\n",
       "        }    #T_af40288c_5df3_11ea_b60f_02420a002c49row5_col4 {\n",
       "            background-color:  #c4d5f3;\n",
       "            color:  #000000;\n",
       "        }    #T_af40288c_5df3_11ea_b60f_02420a002c49row5_col5 {\n",
       "            background-color:  #b40426;\n",
       "            color:  #f1f1f1;\n",
       "        }    #T_af40288c_5df3_11ea_b60f_02420a002c49row5_col6 {\n",
       "            background-color:  #f18f71;\n",
       "            color:  #000000;\n",
       "        }    #T_af40288c_5df3_11ea_b60f_02420a002c49row5_col7 {\n",
       "            background-color:  #c5d6f2;\n",
       "            color:  #000000;\n",
       "        }    #T_af40288c_5df3_11ea_b60f_02420a002c49row6_col0 {\n",
       "            background-color:  #799cf8;\n",
       "            color:  #000000;\n",
       "        }    #T_af40288c_5df3_11ea_b60f_02420a002c49row6_col1 {\n",
       "            background-color:  #9abbff;\n",
       "            color:  #000000;\n",
       "        }    #T_af40288c_5df3_11ea_b60f_02420a002c49row6_col2 {\n",
       "            background-color:  #8db0fe;\n",
       "            color:  #000000;\n",
       "        }    #T_af40288c_5df3_11ea_b60f_02420a002c49row6_col3 {\n",
       "            background-color:  #799cf8;\n",
       "            color:  #000000;\n",
       "        }    #T_af40288c_5df3_11ea_b60f_02420a002c49row6_col4 {\n",
       "            background-color:  #9abbff;\n",
       "            color:  #000000;\n",
       "        }    #T_af40288c_5df3_11ea_b60f_02420a002c49row6_col5 {\n",
       "            background-color:  #f18f71;\n",
       "            color:  #000000;\n",
       "        }    #T_af40288c_5df3_11ea_b60f_02420a002c49row6_col6 {\n",
       "            background-color:  #b40426;\n",
       "            color:  #f1f1f1;\n",
       "        }    #T_af40288c_5df3_11ea_b60f_02420a002c49row6_col7 {\n",
       "            background-color:  #9abbff;\n",
       "            color:  #000000;\n",
       "        }    #T_af40288c_5df3_11ea_b60f_02420a002c49row7_col0 {\n",
       "            background-color:  #3b4cc0;\n",
       "            color:  #f1f1f1;\n",
       "        }    #T_af40288c_5df3_11ea_b60f_02420a002c49row7_col1 {\n",
       "            background-color:  #bd1f2d;\n",
       "            color:  #f1f1f1;\n",
       "        }    #T_af40288c_5df3_11ea_b60f_02420a002c49row7_col2 {\n",
       "            background-color:  #d1493f;\n",
       "            color:  #f1f1f1;\n",
       "        }    #T_af40288c_5df3_11ea_b60f_02420a002c49row7_col3 {\n",
       "            background-color:  #e0dbd8;\n",
       "            color:  #000000;\n",
       "        }    #T_af40288c_5df3_11ea_b60f_02420a002c49row7_col4 {\n",
       "            background-color:  #b40426;\n",
       "            color:  #f1f1f1;\n",
       "        }    #T_af40288c_5df3_11ea_b60f_02420a002c49row7_col5 {\n",
       "            background-color:  #97b8ff;\n",
       "            color:  #000000;\n",
       "        }    #T_af40288c_5df3_11ea_b60f_02420a002c49row7_col6 {\n",
       "            background-color:  #5f7fe8;\n",
       "            color:  #000000;\n",
       "        }    #T_af40288c_5df3_11ea_b60f_02420a002c49row7_col7 {\n",
       "            background-color:  #b40426;\n",
       "            color:  #f1f1f1;\n",
       "        }</style><table id=\"T_af40288c_5df3_11ea_b60f_02420a002c49\" ><thead>    <tr>        <th class=\"blank level0\" ></th>        <th class=\"col_heading level0 col0\" >year_of_release</th>        <th class=\"col_heading level0 col1\" >na_sales</th>        <th class=\"col_heading level0 col2\" >eu_sales</th>        <th class=\"col_heading level0 col3\" >jp_sales</th>        <th class=\"col_heading level0 col4\" >other_sales</th>        <th class=\"col_heading level0 col5\" >critic_score</th>        <th class=\"col_heading level0 col6\" >user_score</th>        <th class=\"col_heading level0 col7\" >total_sales</th>    </tr></thead><tbody>\n",
       "                <tr>\n",
       "                        <th id=\"T_af40288c_5df3_11ea_b60f_02420a002c49level0_row0\" class=\"row_heading level0 row0\" >year_of_release</th>\n",
       "                        <td id=\"T_af40288c_5df3_11ea_b60f_02420a002c49row0_col0\" class=\"data row0 col0\" >1</td>\n",
       "                        <td id=\"T_af40288c_5df3_11ea_b60f_02420a002c49row0_col1\" class=\"data row0 col1\" >-0.242667</td>\n",
       "                        <td id=\"T_af40288c_5df3_11ea_b60f_02420a002c49row0_col2\" class=\"data row0 col2\" >-0.194925</td>\n",
       "                        <td id=\"T_af40288c_5df3_11ea_b60f_02420a002c49row0_col3\" class=\"data row0 col3\" >-0.12705</td>\n",
       "                        <td id=\"T_af40288c_5df3_11ea_b60f_02420a002c49row0_col4\" class=\"data row0 col4\" >-0.243414</td>\n",
       "                        <td id=\"T_af40288c_5df3_11ea_b60f_02420a002c49row0_col5\" class=\"data row0 col5\" >-0.00833764</td>\n",
       "                        <td id=\"T_af40288c_5df3_11ea_b60f_02420a002c49row0_col6\" class=\"data row0 col6\" >-0.00128419</td>\n",
       "                        <td id=\"T_af40288c_5df3_11ea_b60f_02420a002c49row0_col7\" class=\"data row0 col7\" >-0.239183</td>\n",
       "            </tr>\n",
       "            <tr>\n",
       "                        <th id=\"T_af40288c_5df3_11ea_b60f_02420a002c49level0_row1\" class=\"row_heading level0 row1\" >na_sales</th>\n",
       "                        <td id=\"T_af40288c_5df3_11ea_b60f_02420a002c49row1_col0\" class=\"data row1 col0\" >-0.242667</td>\n",
       "                        <td id=\"T_af40288c_5df3_11ea_b60f_02420a002c49row1_col1\" class=\"data row1 col1\" >1</td>\n",
       "                        <td id=\"T_af40288c_5df3_11ea_b60f_02420a002c49row1_col2\" class=\"data row1 col2\" >0.765367</td>\n",
       "                        <td id=\"T_af40288c_5df3_11ea_b60f_02420a002c49row1_col3\" class=\"data row1 col3\" >0.425725</td>\n",
       "                        <td id=\"T_af40288c_5df3_11ea_b60f_02420a002c49row1_col4\" class=\"data row1 col4\" >0.988088</td>\n",
       "                        <td id=\"T_af40288c_5df3_11ea_b60f_02420a002c49row1_col5\" class=\"data row1 col5\" >0.25974</td>\n",
       "                        <td id=\"T_af40288c_5df3_11ea_b60f_02420a002c49row1_col6\" class=\"data row1 col6\" >0.112752</td>\n",
       "                        <td id=\"T_af40288c_5df3_11ea_b60f_02420a002c49row1_col7\" class=\"data row1 col7\" >0.970433</td>\n",
       "            </tr>\n",
       "            <tr>\n",
       "                        <th id=\"T_af40288c_5df3_11ea_b60f_02420a002c49level0_row2\" class=\"row_heading level0 row2\" >eu_sales</th>\n",
       "                        <td id=\"T_af40288c_5df3_11ea_b60f_02420a002c49row2_col0\" class=\"data row2 col0\" >-0.194925</td>\n",
       "                        <td id=\"T_af40288c_5df3_11ea_b60f_02420a002c49row2_col1\" class=\"data row2 col1\" >0.765367</td>\n",
       "                        <td id=\"T_af40288c_5df3_11ea_b60f_02420a002c49row2_col2\" class=\"data row2 col2\" >1</td>\n",
       "                        <td id=\"T_af40288c_5df3_11ea_b60f_02420a002c49row2_col3\" class=\"data row2 col3\" >0.421071</td>\n",
       "                        <td id=\"T_af40288c_5df3_11ea_b60f_02420a002c49row2_col4\" class=\"data row2 col4\" >0.852986</td>\n",
       "                        <td id=\"T_af40288c_5df3_11ea_b60f_02420a002c49row2_col5\" class=\"data row2 col5\" >0.259398</td>\n",
       "                        <td id=\"T_af40288c_5df3_11ea_b60f_02420a002c49row2_col6\" class=\"data row2 col6\" >0.105354</td>\n",
       "                        <td id=\"T_af40288c_5df3_11ea_b60f_02420a002c49row2_col7\" class=\"data row2 col7\" >0.898045</td>\n",
       "            </tr>\n",
       "            <tr>\n",
       "                        <th id=\"T_af40288c_5df3_11ea_b60f_02420a002c49level0_row3\" class=\"row_heading level0 row3\" >jp_sales</th>\n",
       "                        <td id=\"T_af40288c_5df3_11ea_b60f_02420a002c49row3_col0\" class=\"data row3 col0\" >-0.12705</td>\n",
       "                        <td id=\"T_af40288c_5df3_11ea_b60f_02420a002c49row3_col1\" class=\"data row3 col1\" >0.425725</td>\n",
       "                        <td id=\"T_af40288c_5df3_11ea_b60f_02420a002c49row3_col2\" class=\"data row3 col2\" >0.421071</td>\n",
       "                        <td id=\"T_af40288c_5df3_11ea_b60f_02420a002c49row3_col3\" class=\"data row3 col3\" >1</td>\n",
       "                        <td id=\"T_af40288c_5df3_11ea_b60f_02420a002c49row3_col4\" class=\"data row3 col4\" >0.441717</td>\n",
       "                        <td id=\"T_af40288c_5df3_11ea_b60f_02420a002c49row3_col5\" class=\"data row3 col5\" >0.149927</td>\n",
       "                        <td id=\"T_af40288c_5df3_11ea_b60f_02420a002c49row3_col6\" class=\"data row3 col6\" >0.0903037</td>\n",
       "                        <td id=\"T_af40288c_5df3_11ea_b60f_02420a002c49row3_col7\" class=\"data row3 col7\" >0.452701</td>\n",
       "            </tr>\n",
       "            <tr>\n",
       "                        <th id=\"T_af40288c_5df3_11ea_b60f_02420a002c49level0_row4\" class=\"row_heading level0 row4\" >other_sales</th>\n",
       "                        <td id=\"T_af40288c_5df3_11ea_b60f_02420a002c49row4_col0\" class=\"data row4 col0\" >-0.243414</td>\n",
       "                        <td id=\"T_af40288c_5df3_11ea_b60f_02420a002c49row4_col1\" class=\"data row4 col1\" >0.988088</td>\n",
       "                        <td id=\"T_af40288c_5df3_11ea_b60f_02420a002c49row4_col2\" class=\"data row4 col2\" >0.852986</td>\n",
       "                        <td id=\"T_af40288c_5df3_11ea_b60f_02420a002c49row4_col3\" class=\"data row4 col3\" >0.441717</td>\n",
       "                        <td id=\"T_af40288c_5df3_11ea_b60f_02420a002c49row4_col4\" class=\"data row4 col4\" >1</td>\n",
       "                        <td id=\"T_af40288c_5df3_11ea_b60f_02420a002c49row4_col5\" class=\"data row4 col5\" >0.270032</td>\n",
       "                        <td id=\"T_af40288c_5df3_11ea_b60f_02420a002c49row4_col6\" class=\"data row4 col6\" >0.113772</td>\n",
       "                        <td id=\"T_af40288c_5df3_11ea_b60f_02420a002c49row4_col7\" class=\"data row4 col7\" >0.995238</td>\n",
       "            </tr>\n",
       "            <tr>\n",
       "                        <th id=\"T_af40288c_5df3_11ea_b60f_02420a002c49level0_row5\" class=\"row_heading level0 row5\" >critic_score</th>\n",
       "                        <td id=\"T_af40288c_5df3_11ea_b60f_02420a002c49row5_col0\" class=\"data row5 col0\" >-0.00833764</td>\n",
       "                        <td id=\"T_af40288c_5df3_11ea_b60f_02420a002c49row5_col1\" class=\"data row5 col1\" >0.25974</td>\n",
       "                        <td id=\"T_af40288c_5df3_11ea_b60f_02420a002c49row5_col2\" class=\"data row5 col2\" >0.259398</td>\n",
       "                        <td id=\"T_af40288c_5df3_11ea_b60f_02420a002c49row5_col3\" class=\"data row5 col3\" >0.149927</td>\n",
       "                        <td id=\"T_af40288c_5df3_11ea_b60f_02420a002c49row5_col4\" class=\"data row5 col4\" >0.270032</td>\n",
       "                        <td id=\"T_af40288c_5df3_11ea_b60f_02420a002c49row5_col5\" class=\"data row5 col5\" >1</td>\n",
       "                        <td id=\"T_af40288c_5df3_11ea_b60f_02420a002c49row5_col6\" class=\"data row5 col6\" >0.774153</td>\n",
       "                        <td id=\"T_af40288c_5df3_11ea_b60f_02420a002c49row5_col7\" class=\"data row5 col7\" >0.274839</td>\n",
       "            </tr>\n",
       "            <tr>\n",
       "                        <th id=\"T_af40288c_5df3_11ea_b60f_02420a002c49level0_row6\" class=\"row_heading level0 row6\" >user_score</th>\n",
       "                        <td id=\"T_af40288c_5df3_11ea_b60f_02420a002c49row6_col0\" class=\"data row6 col0\" >-0.00128419</td>\n",
       "                        <td id=\"T_af40288c_5df3_11ea_b60f_02420a002c49row6_col1\" class=\"data row6 col1\" >0.112752</td>\n",
       "                        <td id=\"T_af40288c_5df3_11ea_b60f_02420a002c49row6_col2\" class=\"data row6 col2\" >0.105354</td>\n",
       "                        <td id=\"T_af40288c_5df3_11ea_b60f_02420a002c49row6_col3\" class=\"data row6 col3\" >0.0903037</td>\n",
       "                        <td id=\"T_af40288c_5df3_11ea_b60f_02420a002c49row6_col4\" class=\"data row6 col4\" >0.113772</td>\n",
       "                        <td id=\"T_af40288c_5df3_11ea_b60f_02420a002c49row6_col5\" class=\"data row6 col5\" >0.774153</td>\n",
       "                        <td id=\"T_af40288c_5df3_11ea_b60f_02420a002c49row6_col6\" class=\"data row6 col6\" >1</td>\n",
       "                        <td id=\"T_af40288c_5df3_11ea_b60f_02420a002c49row6_col7\" class=\"data row6 col7\" >0.116563</td>\n",
       "            </tr>\n",
       "            <tr>\n",
       "                        <th id=\"T_af40288c_5df3_11ea_b60f_02420a002c49level0_row7\" class=\"row_heading level0 row7\" >total_sales</th>\n",
       "                        <td id=\"T_af40288c_5df3_11ea_b60f_02420a002c49row7_col0\" class=\"data row7 col0\" >-0.239183</td>\n",
       "                        <td id=\"T_af40288c_5df3_11ea_b60f_02420a002c49row7_col1\" class=\"data row7 col1\" >0.970433</td>\n",
       "                        <td id=\"T_af40288c_5df3_11ea_b60f_02420a002c49row7_col2\" class=\"data row7 col2\" >0.898045</td>\n",
       "                        <td id=\"T_af40288c_5df3_11ea_b60f_02420a002c49row7_col3\" class=\"data row7 col3\" >0.452701</td>\n",
       "                        <td id=\"T_af40288c_5df3_11ea_b60f_02420a002c49row7_col4\" class=\"data row7 col4\" >0.995238</td>\n",
       "                        <td id=\"T_af40288c_5df3_11ea_b60f_02420a002c49row7_col5\" class=\"data row7 col5\" >0.274839</td>\n",
       "                        <td id=\"T_af40288c_5df3_11ea_b60f_02420a002c49row7_col6\" class=\"data row7 col6\" >0.116563</td>\n",
       "                        <td id=\"T_af40288c_5df3_11ea_b60f_02420a002c49row7_col7\" class=\"data row7 col7\" >1</td>\n",
       "            </tr>\n",
       "    </tbody></table>"
      ],
      "text/plain": [
       "<pandas.io.formats.style.Styler at 0x7f19f8264650>"
      ]
     },
     "execution_count": 68,
     "metadata": {},
     "output_type": "execute_result"
    }
   ],
   "source": [
    "#посмотрим корреляцию для платформы XOne\n",
    "corr = (actual_games\n",
    "    .query('platform == \"XOne\"')\n",
    "    .corr()\n",
    ")\n",
    "corr.style.background_gradient(cmap = 'coolwarm')"
   ]
  },
  {
   "cell_type": "markdown",
   "metadata": {},
   "source": [
    "Посмотрим, как влияют на продажи внутри одной популярной платформы (XOne) отзывы пользователей и критиков. Для этого посчитаем корреляцию между отзывами и продажами. Видим, что коэффициент корреляции в обоих случаях положительный (чем лучше отзывы, тем выше продажи), но невысокий: 0,27 с оценками критиков и 0,11 с оценками пользователей. Иными словами, оценки не очень влияют на продажи, либо влияют не только они."
   ]
  },
  {
   "cell_type": "code",
   "execution_count": 69,
   "metadata": {},
   "outputs": [
    {
     "data": {
      "text/plain": [
       "<matplotlib.axes._subplots.AxesSubplot at 0x7f19f855b690>"
      ]
     },
     "execution_count": 69,
     "metadata": {},
     "output_type": "execute_result"
    },
    {
     "data": {
      "image/png": "[encoded data removed]",
      "text/plain": [
       "<Figure size 432x288 with 1 Axes>"
      ]
     },
     "metadata": {
      "needs_background": "light"
     },
     "output_type": "display_data"
    }
   ],
   "source": [
    "#построим диаграмму рассеяния для отзывов критиков\n",
    "(actual_games\n",
    "    .query('platform == \"XOne\"')\n",
    "    .plot(x='total_sales', y='critic_score', kind='scatter', grid=True)\n",
    ")"
   ]
  },
  {
   "cell_type": "code",
   "execution_count": 70,
   "metadata": {},
   "outputs": [
    {
     "data": {
      "text/plain": [
       "<matplotlib.axes._subplots.AxesSubplot at 0x7f19f8502f90>"
      ]
     },
     "execution_count": 70,
     "metadata": {},
     "output_type": "execute_result"
    },
    {
     "data": {
      "image/png": "[encoded data removed]",
      "text/plain": [
       "<Figure size 432x288 with 1 Axes>"
      ]
     },
     "metadata": {
      "needs_background": "light"
     },
     "output_type": "display_data"
    }
   ],
   "source": [
    "#и диаграмму рассеяния для отзывов пользователей\n",
    "(actual_games\n",
    "    .query('platform == \"XOne\"')\n",
    "    .plot(x='total_sales', y='user_score', kind='scatter', grid=True)\n",
    ")"
   ]
  },
  {
   "cell_type": "markdown",
   "metadata": {},
   "source": [
    "Построим диаграммы рассеяния. Для отзывов критиков и пользователей они в целом подобны. На обеих мы видим, что большинство отзывов достаточно высоки, однако основное количество продаж при большом скоплении хороших оценок находится в зоне до 1 млн. По диаграммам мы еще раз убеждаемся, что влияние отзывов критиков на цену чуть сильнее, чем оценок пользователей. С увеличением продаж значения оценок критиков тяготеют всё выше. А вот оценки пользователей остаются примерно на том же уровне. Но всё-таки в обоих случаях эта зависимость не абсолютная: оценки - не единственный и не главный фактор, определяющий продажи игр."
   ]
  },
  {
   "cell_type": "code",
   "execution_count": 71,
   "metadata": {},
   "outputs": [
    {
     "data": {
      "text/html": [
       "<style  type=\"text/css\" >\n",
       "    #T_afc7b9e6_5df3_11ea_b60f_02420a002c49row0_col0 {\n",
       "            background-color:  #b40426;\n",
       "            color:  #f1f1f1;\n",
       "        }    #T_afc7b9e6_5df3_11ea_b60f_02420a002c49row0_col1 {\n",
       "            background-color:  #3b4cc0;\n",
       "            color:  #f1f1f1;\n",
       "        }    #T_afc7b9e6_5df3_11ea_b60f_02420a002c49row0_col2 {\n",
       "            background-color:  #3b4cc0;\n",
       "            color:  #f1f1f1;\n",
       "        }    #T_afc7b9e6_5df3_11ea_b60f_02420a002c49row0_col3 {\n",
       "            background-color:  #3b4cc0;\n",
       "            color:  #f1f1f1;\n",
       "        }    #T_afc7b9e6_5df3_11ea_b60f_02420a002c49row0_col4 {\n",
       "            background-color:  #3b4cc0;\n",
       "            color:  #f1f1f1;\n",
       "        }    #T_afc7b9e6_5df3_11ea_b60f_02420a002c49row0_col5 {\n",
       "            background-color:  #3b4cc0;\n",
       "            color:  #f1f1f1;\n",
       "        }    #T_afc7b9e6_5df3_11ea_b60f_02420a002c49row0_col6 {\n",
       "            background-color:  #3b4cc0;\n",
       "            color:  #f1f1f1;\n",
       "        }    #T_afc7b9e6_5df3_11ea_b60f_02420a002c49row0_col7 {\n",
       "            background-color:  #3b4cc0;\n",
       "            color:  #f1f1f1;\n",
       "        }    #T_afc7b9e6_5df3_11ea_b60f_02420a002c49row1_col0 {\n",
       "            background-color:  #3b4cc0;\n",
       "            color:  #f1f1f1;\n",
       "        }    #T_afc7b9e6_5df3_11ea_b60f_02420a002c49row1_col1 {\n",
       "            background-color:  #b40426;\n",
       "            color:  #f1f1f1;\n",
       "        }    #T_afc7b9e6_5df3_11ea_b60f_02420a002c49row1_col2 {\n",
       "            background-color:  #f08a6c;\n",
       "            color:  #000000;\n",
       "        }    #T_afc7b9e6_5df3_11ea_b60f_02420a002c49row1_col3 {\n",
       "            background-color:  #a7c5fe;\n",
       "            color:  #000000;\n",
       "        }    #T_afc7b9e6_5df3_11ea_b60f_02420a002c49row1_col4 {\n",
       "            background-color:  #ec8165;\n",
       "            color:  #000000;\n",
       "        }    #T_afc7b9e6_5df3_11ea_b60f_02420a002c49row1_col5 {\n",
       "            background-color:  #a2c1ff;\n",
       "            color:  #000000;\n",
       "        }    #T_afc7b9e6_5df3_11ea_b60f_02420a002c49row1_col6 {\n",
       "            background-color:  #86a9fc;\n",
       "            color:  #000000;\n",
       "        }    #T_afc7b9e6_5df3_11ea_b60f_02420a002c49row1_col7 {\n",
       "            background-color:  #cd423b;\n",
       "            color:  #f1f1f1;\n",
       "        }    #T_afc7b9e6_5df3_11ea_b60f_02420a002c49row2_col0 {\n",
       "            background-color:  #4961d2;\n",
       "            color:  #f1f1f1;\n",
       "        }    #T_afc7b9e6_5df3_11ea_b60f_02420a002c49row2_col1 {\n",
       "            background-color:  #ee8468;\n",
       "            color:  #000000;\n",
       "        }    #T_afc7b9e6_5df3_11ea_b60f_02420a002c49row2_col2 {\n",
       "            background-color:  #b40426;\n",
       "            color:  #f1f1f1;\n",
       "        }    #T_afc7b9e6_5df3_11ea_b60f_02420a002c49row2_col3 {\n",
       "            background-color:  #a1c0ff;\n",
       "            color:  #000000;\n",
       "        }    #T_afc7b9e6_5df3_11ea_b60f_02420a002c49row2_col4 {\n",
       "            background-color:  #c83836;\n",
       "            color:  #f1f1f1;\n",
       "        }    #T_afc7b9e6_5df3_11ea_b60f_02420a002c49row2_col5 {\n",
       "            background-color:  #a5c3fe;\n",
       "            color:  #000000;\n",
       "        }    #T_afc7b9e6_5df3_11ea_b60f_02420a002c49row2_col6 {\n",
       "            background-color:  #84a7fc;\n",
       "            color:  #000000;\n",
       "        }    #T_afc7b9e6_5df3_11ea_b60f_02420a002c49row2_col7 {\n",
       "            background-color:  #cb3e38;\n",
       "            color:  #f1f1f1;\n",
       "        }    #T_afc7b9e6_5df3_11ea_b60f_02420a002c49row3_col0 {\n",
       "            background-color:  #4b64d5;\n",
       "            color:  #f1f1f1;\n",
       "        }    #T_afc7b9e6_5df3_11ea_b60f_02420a002c49row3_col1 {\n",
       "            background-color:  #b5cdfa;\n",
       "            color:  #000000;\n",
       "        }    #T_afc7b9e6_5df3_11ea_b60f_02420a002c49row3_col2 {\n",
       "            background-color:  #a2c1ff;\n",
       "            color:  #000000;\n",
       "        }    #T_afc7b9e6_5df3_11ea_b60f_02420a002c49row3_col3 {\n",
       "            background-color:  #b40426;\n",
       "            color:  #f1f1f1;\n",
       "        }    #T_afc7b9e6_5df3_11ea_b60f_02420a002c49row3_col4 {\n",
       "            background-color:  #8caffe;\n",
       "            color:  #000000;\n",
       "        }    #T_afc7b9e6_5df3_11ea_b60f_02420a002c49row3_col5 {\n",
       "            background-color:  #5470de;\n",
       "            color:  #000000;\n",
       "        }    #T_afc7b9e6_5df3_11ea_b60f_02420a002c49row3_col6 {\n",
       "            background-color:  #445acc;\n",
       "            color:  #f1f1f1;\n",
       "        }    #T_afc7b9e6_5df3_11ea_b60f_02420a002c49row3_col7 {\n",
       "            background-color:  #dfdbd9;\n",
       "            color:  #000000;\n",
       "        }    #T_afc7b9e6_5df3_11ea_b60f_02420a002c49row4_col0 {\n",
       "            background-color:  #4961d2;\n",
       "            color:  #f1f1f1;\n",
       "        }    #T_afc7b9e6_5df3_11ea_b60f_02420a002c49row4_col1 {\n",
       "            background-color:  #eb7d62;\n",
       "            color:  #000000;\n",
       "        }    #T_afc7b9e6_5df3_11ea_b60f_02420a002c49row4_col2 {\n",
       "            background-color:  #c83836;\n",
       "            color:  #f1f1f1;\n",
       "        }    #T_afc7b9e6_5df3_11ea_b60f_02420a002c49row4_col3 {\n",
       "            background-color:  #8badfd;\n",
       "            color:  #000000;\n",
       "        }    #T_afc7b9e6_5df3_11ea_b60f_02420a002c49row4_col4 {\n",
       "            background-color:  #b40426;\n",
       "            color:  #f1f1f1;\n",
       "        }    #T_afc7b9e6_5df3_11ea_b60f_02420a002c49row4_col5 {\n",
       "            background-color:  #a2c1ff;\n",
       "            color:  #000000;\n",
       "        }    #T_afc7b9e6_5df3_11ea_b60f_02420a002c49row4_col6 {\n",
       "            background-color:  #82a6fb;\n",
       "            color:  #000000;\n",
       "        }    #T_afc7b9e6_5df3_11ea_b60f_02420a002c49row4_col7 {\n",
       "            background-color:  #d1493f;\n",
       "            color:  #f1f1f1;\n",
       "        }    #T_afc7b9e6_5df3_11ea_b60f_02420a002c49row5_col0 {\n",
       "            background-color:  #3e51c5;\n",
       "            color:  #f1f1f1;\n",
       "        }    #T_afc7b9e6_5df3_11ea_b60f_02420a002c49row5_col1 {\n",
       "            background-color:  #a6c4fe;\n",
       "            color:  #000000;\n",
       "        }    #T_afc7b9e6_5df3_11ea_b60f_02420a002c49row5_col2 {\n",
       "            background-color:  #9bbcff;\n",
       "            color:  #000000;\n",
       "        }    #T_afc7b9e6_5df3_11ea_b60f_02420a002c49row5_col3 {\n",
       "            background-color:  #465ecf;\n",
       "            color:  #f1f1f1;\n",
       "        }    #T_afc7b9e6_5df3_11ea_b60f_02420a002c49row5_col4 {\n",
       "            background-color:  #9abbff;\n",
       "            color:  #000000;\n",
       "        }    #T_afc7b9e6_5df3_11ea_b60f_02420a002c49row5_col5 {\n",
       "            background-color:  #b40426;\n",
       "            color:  #f1f1f1;\n",
       "        }    #T_afc7b9e6_5df3_11ea_b60f_02420a002c49row5_col6 {\n",
       "            background-color:  #e36c55;\n",
       "            color:  #000000;\n",
       "        }    #T_afc7b9e6_5df3_11ea_b60f_02420a002c49row5_col7 {\n",
       "            background-color:  #9fbfff;\n",
       "            color:  #000000;\n",
       "        }    #T_afc7b9e6_5df3_11ea_b60f_02420a002c49row6_col0 {\n",
       "            background-color:  #4a63d3;\n",
       "            color:  #f1f1f1;\n",
       "        }    #T_afc7b9e6_5df3_11ea_b60f_02420a002c49row6_col1 {\n",
       "            background-color:  #94b6ff;\n",
       "            color:  #000000;\n",
       "        }    #T_afc7b9e6_5df3_11ea_b60f_02420a002c49row6_col2 {\n",
       "            background-color:  #84a7fc;\n",
       "            color:  #000000;\n",
       "        }    #T_afc7b9e6_5df3_11ea_b60f_02420a002c49row6_col3 {\n",
       "            background-color:  #4358cb;\n",
       "            color:  #f1f1f1;\n",
       "        }    #T_afc7b9e6_5df3_11ea_b60f_02420a002c49row6_col4 {\n",
       "            background-color:  #84a7fc;\n",
       "            color:  #000000;\n",
       "        }    #T_afc7b9e6_5df3_11ea_b60f_02420a002c49row6_col5 {\n",
       "            background-color:  #e36b54;\n",
       "            color:  #000000;\n",
       "        }    #T_afc7b9e6_5df3_11ea_b60f_02420a002c49row6_col6 {\n",
       "            background-color:  #b40426;\n",
       "            color:  #f1f1f1;\n",
       "        }    #T_afc7b9e6_5df3_11ea_b60f_02420a002c49row6_col7 {\n",
       "            background-color:  #8caffe;\n",
       "            color:  #000000;\n",
       "        }    #T_afc7b9e6_5df3_11ea_b60f_02420a002c49row7_col0 {\n",
       "            background-color:  #4055c8;\n",
       "            color:  #f1f1f1;\n",
       "        }    #T_afc7b9e6_5df3_11ea_b60f_02420a002c49row7_col1 {\n",
       "            background-color:  #cd423b;\n",
       "            color:  #f1f1f1;\n",
       "        }    #T_afc7b9e6_5df3_11ea_b60f_02420a002c49row7_col2 {\n",
       "            background-color:  #cc403a;\n",
       "            color:  #f1f1f1;\n",
       "        }    #T_afc7b9e6_5df3_11ea_b60f_02420a002c49row7_col3 {\n",
       "            background-color:  #dbdcde;\n",
       "            color:  #000000;\n",
       "        }    #T_afc7b9e6_5df3_11ea_b60f_02420a002c49row7_col4 {\n",
       "            background-color:  #d24b40;\n",
       "            color:  #f1f1f1;\n",
       "        }    #T_afc7b9e6_5df3_11ea_b60f_02420a002c49row7_col5 {\n",
       "            background-color:  #a2c1ff;\n",
       "            color:  #000000;\n",
       "        }    #T_afc7b9e6_5df3_11ea_b60f_02420a002c49row7_col6 {\n",
       "            background-color:  #82a6fb;\n",
       "            color:  #000000;\n",
       "        }    #T_afc7b9e6_5df3_11ea_b60f_02420a002c49row7_col7 {\n",
       "            background-color:  #b40426;\n",
       "            color:  #f1f1f1;\n",
       "        }</style><table id=\"T_afc7b9e6_5df3_11ea_b60f_02420a002c49\" ><thead>    <tr>        <th class=\"blank level0\" ></th>        <th class=\"col_heading level0 col0\" >year_of_release</th>        <th class=\"col_heading level0 col1\" >na_sales</th>        <th class=\"col_heading level0 col2\" >eu_sales</th>        <th class=\"col_heading level0 col3\" >jp_sales</th>        <th class=\"col_heading level0 col4\" >other_sales</th>        <th class=\"col_heading level0 col5\" >critic_score</th>        <th class=\"col_heading level0 col6\" >user_score</th>        <th class=\"col_heading level0 col7\" >total_sales</th>    </tr></thead><tbody>\n",
       "                <tr>\n",
       "                        <th id=\"T_afc7b9e6_5df3_11ea_b60f_02420a002c49level0_row0\" class=\"row_heading level0 row0\" >year_of_release</th>\n",
       "                        <td id=\"T_afc7b9e6_5df3_11ea_b60f_02420a002c49row0_col0\" class=\"data row0 col0\" >1</td>\n",
       "                        <td id=\"T_afc7b9e6_5df3_11ea_b60f_02420a002c49row0_col1\" class=\"data row0 col1\" >-0.10928</td>\n",
       "                        <td id=\"T_afc7b9e6_5df3_11ea_b60f_02420a002c49row0_col2\" class=\"data row0 col2\" >-0.0531447</td>\n",
       "                        <td id=\"T_afc7b9e6_5df3_11ea_b60f_02420a002c49row0_col3\" class=\"data row0 col3\" >-0.0471768</td>\n",
       "                        <td id=\"T_afc7b9e6_5df3_11ea_b60f_02420a002c49row0_col4\" class=\"data row0 col4\" >-0.0540771</td>\n",
       "                        <td id=\"T_afc7b9e6_5df3_11ea_b60f_02420a002c49row0_col5\" class=\"data row0 col5\" >-0.0943109</td>\n",
       "                        <td id=\"T_afc7b9e6_5df3_11ea_b60f_02420a002c49row0_col6\" class=\"data row0 col6\" >-0.0496514</td>\n",
       "                        <td id=\"T_afc7b9e6_5df3_11ea_b60f_02420a002c49row0_col7\" class=\"data row0 col7\" >-0.0864169</td>\n",
       "            </tr>\n",
       "            <tr>\n",
       "                        <th id=\"T_afc7b9e6_5df3_11ea_b60f_02420a002c49level0_row1\" class=\"row_heading level0 row1\" >na_sales</th>\n",
       "                        <td id=\"T_afc7b9e6_5df3_11ea_b60f_02420a002c49row1_col0\" class=\"data row1 col0\" >-0.10928</td>\n",
       "                        <td id=\"T_afc7b9e6_5df3_11ea_b60f_02420a002c49row1_col1\" class=\"data row1 col1\" >1</td>\n",
       "                        <td id=\"T_afc7b9e6_5df3_11ea_b60f_02420a002c49row1_col2\" class=\"data row1 col2\" >0.775336</td>\n",
       "                        <td id=\"T_afc7b9e6_5df3_11ea_b60f_02420a002c49row1_col3\" class=\"data row1 col3\" >0.296243</td>\n",
       "                        <td id=\"T_afc7b9e6_5df3_11ea_b60f_02420a002c49row1_col4\" class=\"data row1 col4\" >0.795338</td>\n",
       "                        <td id=\"T_afc7b9e6_5df3_11ea_b60f_02420a002c49row1_col5\" class=\"data row1 col5\" >0.247571</td>\n",
       "                        <td id=\"T_afc7b9e6_5df3_11ea_b60f_02420a002c49row1_col6\" class=\"data row1 col6\" >0.19304</td>\n",
       "                        <td id=\"T_afc7b9e6_5df3_11ea_b60f_02420a002c49row1_col7\" class=\"data row1 col7\" >0.921978</td>\n",
       "            </tr>\n",
       "            <tr>\n",
       "                        <th id=\"T_afc7b9e6_5df3_11ea_b60f_02420a002c49level0_row2\" class=\"row_heading level0 row2\" >eu_sales</th>\n",
       "                        <td id=\"T_afc7b9e6_5df3_11ea_b60f_02420a002c49row2_col0\" class=\"data row2 col0\" >-0.0531447</td>\n",
       "                        <td id=\"T_afc7b9e6_5df3_11ea_b60f_02420a002c49row2_col1\" class=\"data row2 col1\" >0.775336</td>\n",
       "                        <td id=\"T_afc7b9e6_5df3_11ea_b60f_02420a002c49row2_col2\" class=\"data row2 col2\" >1</td>\n",
       "                        <td id=\"T_afc7b9e6_5df3_11ea_b60f_02420a002c49row2_col3\" class=\"data row2 col3\" >0.273386</td>\n",
       "                        <td id=\"T_afc7b9e6_5df3_11ea_b60f_02420a002c49row2_col4\" class=\"data row2 col4\" >0.941032</td>\n",
       "                        <td id=\"T_afc7b9e6_5df3_11ea_b60f_02420a002c49row2_col5\" class=\"data row2 col5\" >0.252284</td>\n",
       "                        <td id=\"T_afc7b9e6_5df3_11ea_b60f_02420a002c49row2_col6\" class=\"data row2 col6\" >0.184496</td>\n",
       "                        <td id=\"T_afc7b9e6_5df3_11ea_b60f_02420a002c49row2_col7\" class=\"data row2 col7\" >0.929636</td>\n",
       "            </tr>\n",
       "            <tr>\n",
       "                        <th id=\"T_afc7b9e6_5df3_11ea_b60f_02420a002c49level0_row3\" class=\"row_heading level0 row3\" >jp_sales</th>\n",
       "                        <td id=\"T_afc7b9e6_5df3_11ea_b60f_02420a002c49row3_col0\" class=\"data row3 col0\" >-0.0471768</td>\n",
       "                        <td id=\"T_afc7b9e6_5df3_11ea_b60f_02420a002c49row3_col1\" class=\"data row3 col1\" >0.296243</td>\n",
       "                        <td id=\"T_afc7b9e6_5df3_11ea_b60f_02420a002c49row3_col2\" class=\"data row3 col2\" >0.273386</td>\n",
       "                        <td id=\"T_afc7b9e6_5df3_11ea_b60f_02420a002c49row3_col3\" class=\"data row3 col3\" >1</td>\n",
       "                        <td id=\"T_afc7b9e6_5df3_11ea_b60f_02420a002c49row3_col4\" class=\"data row3 col4\" >0.206799</td>\n",
       "                        <td id=\"T_afc7b9e6_5df3_11ea_b60f_02420a002c49row3_col5\" class=\"data row3 col5\" >-0.00283187</td>\n",
       "                        <td id=\"T_afc7b9e6_5df3_11ea_b60f_02420a002c49row3_col6\" class=\"data row3 col6\" >-0.0164126</td>\n",
       "                        <td id=\"T_afc7b9e6_5df3_11ea_b60f_02420a002c49row3_col7\" class=\"data row3 col7\" >0.468411</td>\n",
       "            </tr>\n",
       "            <tr>\n",
       "                        <th id=\"T_afc7b9e6_5df3_11ea_b60f_02420a002c49level0_row4\" class=\"row_heading level0 row4\" >other_sales</th>\n",
       "                        <td id=\"T_afc7b9e6_5df3_11ea_b60f_02420a002c49row4_col0\" class=\"data row4 col0\" >-0.0540771</td>\n",
       "                        <td id=\"T_afc7b9e6_5df3_11ea_b60f_02420a002c49row4_col1\" class=\"data row4 col1\" >0.795338</td>\n",
       "                        <td id=\"T_afc7b9e6_5df3_11ea_b60f_02420a002c49row4_col2\" class=\"data row4 col2\" >0.941032</td>\n",
       "                        <td id=\"T_afc7b9e6_5df3_11ea_b60f_02420a002c49row4_col3\" class=\"data row4 col3\" >0.206799</td>\n",
       "                        <td id=\"T_afc7b9e6_5df3_11ea_b60f_02420a002c49row4_col4\" class=\"data row4 col4\" >1</td>\n",
       "                        <td id=\"T_afc7b9e6_5df3_11ea_b60f_02420a002c49row4_col5\" class=\"data row4 col5\" >0.246874</td>\n",
       "                        <td id=\"T_afc7b9e6_5df3_11ea_b60f_02420a002c49row4_col6\" class=\"data row4 col6\" >0.183398</td>\n",
       "                        <td id=\"T_afc7b9e6_5df3_11ea_b60f_02420a002c49row4_col7\" class=\"data row4 col7\" >0.909067</td>\n",
       "            </tr>\n",
       "            <tr>\n",
       "                        <th id=\"T_afc7b9e6_5df3_11ea_b60f_02420a002c49level0_row5\" class=\"row_heading level0 row5\" >critic_score</th>\n",
       "                        <td id=\"T_afc7b9e6_5df3_11ea_b60f_02420a002c49row5_col0\" class=\"data row5 col0\" >-0.0943109</td>\n",
       "                        <td id=\"T_afc7b9e6_5df3_11ea_b60f_02420a002c49row5_col1\" class=\"data row5 col1\" >0.247571</td>\n",
       "                        <td id=\"T_afc7b9e6_5df3_11ea_b60f_02420a002c49row5_col2\" class=\"data row5 col2\" >0.252284</td>\n",
       "                        <td id=\"T_afc7b9e6_5df3_11ea_b60f_02420a002c49row5_col3\" class=\"data row5 col3\" >-0.00283187</td>\n",
       "                        <td id=\"T_afc7b9e6_5df3_11ea_b60f_02420a002c49row5_col4\" class=\"data row5 col4\" >0.246874</td>\n",
       "                        <td id=\"T_afc7b9e6_5df3_11ea_b60f_02420a002c49row5_col5\" class=\"data row5 col5\" >1</td>\n",
       "                        <td id=\"T_afc7b9e6_5df3_11ea_b60f_02420a002c49row5_col6\" class=\"data row5 col6\" >0.841195</td>\n",
       "                        <td id=\"T_afc7b9e6_5df3_11ea_b60f_02420a002c49row5_col7\" class=\"data row5 col7\" >0.244412</td>\n",
       "            </tr>\n",
       "            <tr>\n",
       "                        <th id=\"T_afc7b9e6_5df3_11ea_b60f_02420a002c49level0_row6\" class=\"row_heading level0 row6\" >user_score</th>\n",
       "                        <td id=\"T_afc7b9e6_5df3_11ea_b60f_02420a002c49row6_col0\" class=\"data row6 col0\" >-0.0496514</td>\n",
       "                        <td id=\"T_afc7b9e6_5df3_11ea_b60f_02420a002c49row6_col1\" class=\"data row6 col1\" >0.19304</td>\n",
       "                        <td id=\"T_afc7b9e6_5df3_11ea_b60f_02420a002c49row6_col2\" class=\"data row6 col2\" >0.184496</td>\n",
       "                        <td id=\"T_afc7b9e6_5df3_11ea_b60f_02420a002c49row6_col3\" class=\"data row6 col3\" >-0.0164126</td>\n",
       "                        <td id=\"T_afc7b9e6_5df3_11ea_b60f_02420a002c49row6_col4\" class=\"data row6 col4\" >0.183398</td>\n",
       "                        <td id=\"T_afc7b9e6_5df3_11ea_b60f_02420a002c49row6_col5\" class=\"data row6 col5\" >0.841195</td>\n",
       "                        <td id=\"T_afc7b9e6_5df3_11ea_b60f_02420a002c49row6_col6\" class=\"data row6 col6\" >1</td>\n",
       "                        <td id=\"T_afc7b9e6_5df3_11ea_b60f_02420a002c49row6_col7\" class=\"data row6 col7\" >0.181552</td>\n",
       "            </tr>\n",
       "            <tr>\n",
       "                        <th id=\"T_afc7b9e6_5df3_11ea_b60f_02420a002c49level0_row7\" class=\"row_heading level0 row7\" >total_sales</th>\n",
       "                        <td id=\"T_afc7b9e6_5df3_11ea_b60f_02420a002c49row7_col0\" class=\"data row7 col0\" >-0.0864169</td>\n",
       "                        <td id=\"T_afc7b9e6_5df3_11ea_b60f_02420a002c49row7_col1\" class=\"data row7 col1\" >0.921978</td>\n",
       "                        <td id=\"T_afc7b9e6_5df3_11ea_b60f_02420a002c49row7_col2\" class=\"data row7 col2\" >0.929636</td>\n",
       "                        <td id=\"T_afc7b9e6_5df3_11ea_b60f_02420a002c49row7_col3\" class=\"data row7 col3\" >0.468411</td>\n",
       "                        <td id=\"T_afc7b9e6_5df3_11ea_b60f_02420a002c49row7_col4\" class=\"data row7 col4\" >0.909067</td>\n",
       "                        <td id=\"T_afc7b9e6_5df3_11ea_b60f_02420a002c49row7_col5\" class=\"data row7 col5\" >0.244412</td>\n",
       "                        <td id=\"T_afc7b9e6_5df3_11ea_b60f_02420a002c49row7_col6\" class=\"data row7 col6\" >0.181552</td>\n",
       "                        <td id=\"T_afc7b9e6_5df3_11ea_b60f_02420a002c49row7_col7\" class=\"data row7 col7\" >1</td>\n",
       "            </tr>\n",
       "    </tbody></table>"
      ],
      "text/plain": [
       "<pandas.io.formats.style.Styler at 0x7f19cc4e07d0>"
      ]
     },
     "execution_count": 71,
     "metadata": {},
     "output_type": "execute_result"
    }
   ],
   "source": [
    "#посмотрим корреляцию для других платформ\n",
    "corr = (actual_games\n",
    "    .query('platform != \"XOne\"')\n",
    "    .corr()\n",
    ")\n",
    "corr.style.background_gradient(cmap = 'coolwarm')"
   ]
  },
  {
   "cell_type": "markdown",
   "metadata": {},
   "source": [
    "Для сравнения посмотрим корреляцию оценок и продаж для всех остальных платформ за актуальный период. Видим ту же картину и подобное соотношение коэффициента корреляции: немного сильнее с оценками критиков (0,24) и слабее с оценками пользователей (0,18). Таким образом, выводы актуальны для большинства платформ."
   ]
  },
  {
   "cell_type": "code",
   "execution_count": 72,
   "metadata": {},
   "outputs": [
    {
     "data": {
      "text/html": [
       "<div>\n",
       "<style scoped>\n",
       "    .dataframe tbody tr th:only-of-type {\n",
       "        vertical-align: middle;\n",
       "    }\n",
       "\n",
       "    .dataframe tbody tr th {\n",
       "        vertical-align: top;\n",
       "    }\n",
       "\n",
       "    .dataframe thead th {\n",
       "        text-align: right;\n",
       "    }\n",
       "</style>\n",
       "<table border=\"1\" class=\"dataframe\">\n",
       "  <thead>\n",
       "    <tr style=\"text-align: right;\">\n",
       "      <th></th>\n",
       "      <th>genre</th>\n",
       "      <th>name</th>\n",
       "      <th>total_sales</th>\n",
       "    </tr>\n",
       "  </thead>\n",
       "  <tbody>\n",
       "    <tr>\n",
       "      <td>0</td>\n",
       "      <td>Action</td>\n",
       "      <td>1031</td>\n",
       "      <td>441.12</td>\n",
       "    </tr>\n",
       "    <tr>\n",
       "      <td>1</td>\n",
       "      <td>Adventure</td>\n",
       "      <td>302</td>\n",
       "      <td>29.43</td>\n",
       "    </tr>\n",
       "    <tr>\n",
       "      <td>2</td>\n",
       "      <td>Fighting</td>\n",
       "      <td>109</td>\n",
       "      <td>44.49</td>\n",
       "    </tr>\n",
       "    <tr>\n",
       "      <td>3</td>\n",
       "      <td>Misc</td>\n",
       "      <td>192</td>\n",
       "      <td>85.04</td>\n",
       "    </tr>\n",
       "    <tr>\n",
       "      <td>4</td>\n",
       "      <td>Platform</td>\n",
       "      <td>85</td>\n",
       "      <td>61.00</td>\n",
       "    </tr>\n",
       "    <tr>\n",
       "      <td>5</td>\n",
       "      <td>Puzzle</td>\n",
       "      <td>28</td>\n",
       "      <td>4.89</td>\n",
       "    </tr>\n",
       "    <tr>\n",
       "      <td>6</td>\n",
       "      <td>Racing</td>\n",
       "      <td>115</td>\n",
       "      <td>53.50</td>\n",
       "    </tr>\n",
       "    <tr>\n",
       "      <td>7</td>\n",
       "      <td>Role-Playing</td>\n",
       "      <td>370</td>\n",
       "      <td>192.80</td>\n",
       "    </tr>\n",
       "    <tr>\n",
       "      <td>8</td>\n",
       "      <td>Shooter</td>\n",
       "      <td>235</td>\n",
       "      <td>304.73</td>\n",
       "    </tr>\n",
       "    <tr>\n",
       "      <td>9</td>\n",
       "      <td>Simulation</td>\n",
       "      <td>80</td>\n",
       "      <td>35.12</td>\n",
       "    </tr>\n",
       "    <tr>\n",
       "      <td>10</td>\n",
       "      <td>Sports</td>\n",
       "      <td>268</td>\n",
       "      <td>181.07</td>\n",
       "    </tr>\n",
       "    <tr>\n",
       "      <td>11</td>\n",
       "      <td>Strategy</td>\n",
       "      <td>71</td>\n",
       "      <td>13.34</td>\n",
       "    </tr>\n",
       "  </tbody>\n",
       "</table>\n",
       "</div>"
      ],
      "text/plain": [
       "           genre  name  total_sales\n",
       "0         Action  1031       441.12\n",
       "1      Adventure   302        29.43\n",
       "2       Fighting   109        44.49\n",
       "3           Misc   192        85.04\n",
       "4       Platform    85        61.00\n",
       "5         Puzzle    28         4.89\n",
       "6         Racing   115        53.50\n",
       "7   Role-Playing   370       192.80\n",
       "8        Shooter   235       304.73\n",
       "9     Simulation    80        35.12\n",
       "10        Sports   268       181.07\n",
       "11      Strategy    71        13.34"
      ]
     },
     "execution_count": 72,
     "metadata": {},
     "output_type": "execute_result"
    }
   ],
   "source": [
    "#сгруппируем данные по жанрам - количеству и продажам\n",
    "(actual_games\n",
    "       .groupby(['genre'])\n",
    "       .agg({'name': 'count', 'total_sales': 'sum'})\n",
    "       .reset_index(level = 'genre')\n",
    ")"
   ]
  },
  {
   "cell_type": "code",
   "execution_count": 73,
   "metadata": {},
   "outputs": [
    {
     "data": {
      "text/plain": [
       "<matplotlib.axes._subplots.AxesSubplot at 0x7f19cb81b950>"
      ]
     },
     "execution_count": 73,
     "metadata": {},
     "output_type": "execute_result"
    },
    {
     "data": {
      "image/png": "[encoded data removed]",
      "text/plain": [
       "<Figure size 432x288 with 1 Axes>"
      ]
     },
     "metadata": {
      "needs_background": "light"
     },
     "output_type": "display_data"
    }
   ],
   "source": [
    "#построим график по жанрам\n",
    "plot = (actual_games\n",
    "       .groupby(['genre'])\n",
    "       .agg({'name': 'count', 'total_sales': 'sum'})\n",
    "       .reset_index(level = 'genre')\n",
    ")\n",
    "\n",
    "plot.plot(kind = 'bar', x = 'genre', grid = True)"
   ]
  },
  {
   "cell_type": "markdown",
   "metadata": {},
   "source": [
    "Посмотрим на общее распределение игр по жанрам с помощью графика, отображающего количество игр для каждого жанра и количество продаж. \n",
    "Самыми прибыльными жанрами являются Action (441.12 млн), Shooter (304.73 млн) и Sports (181.07 млн). \n",
    "Action явно лидирует по количеству выпущенных игр (1031). Ниже находятся такие жанры, как Role-Playing (370 игр), Adventure (302 игры), Sports (268) и Misc (192)."
   ]
  },
  {
   "cell_type": "markdown",
   "metadata": {},
   "source": [
    "### Шаг 4. Составление портрета пользователя каждого региона"
   ]
  },
  {
   "cell_type": "code",
   "execution_count": 74,
   "metadata": {},
   "outputs": [
    {
     "data": {
      "text/html": [
       "<div>\n",
       "<style scoped>\n",
       "    .dataframe tbody tr th:only-of-type {\n",
       "        vertical-align: middle;\n",
       "    }\n",
       "\n",
       "    .dataframe tbody tr th {\n",
       "        vertical-align: top;\n",
       "    }\n",
       "\n",
       "    .dataframe thead th {\n",
       "        text-align: right;\n",
       "    }\n",
       "</style>\n",
       "<table border=\"1\" class=\"dataframe\">\n",
       "  <thead>\n",
       "    <tr style=\"text-align: right;\">\n",
       "      <th></th>\n",
       "      <th>na_sales</th>\n",
       "    </tr>\n",
       "    <tr>\n",
       "      <th>platform</th>\n",
       "      <th></th>\n",
       "    </tr>\n",
       "  </thead>\n",
       "  <tbody>\n",
       "    <tr>\n",
       "      <td>X360</td>\n",
       "      <td>140.05</td>\n",
       "    </tr>\n",
       "    <tr>\n",
       "      <td>PS4</td>\n",
       "      <td>108.74</td>\n",
       "    </tr>\n",
       "    <tr>\n",
       "      <td>PS3</td>\n",
       "      <td>103.38</td>\n",
       "    </tr>\n",
       "    <tr>\n",
       "      <td>XOne</td>\n",
       "      <td>93.12</td>\n",
       "    </tr>\n",
       "    <tr>\n",
       "      <td>3DS</td>\n",
       "      <td>55.31</td>\n",
       "    </tr>\n",
       "  </tbody>\n",
       "</table>\n",
       "</div>"
      ],
      "text/plain": [
       "          na_sales\n",
       "platform          \n",
       "X360        140.05\n",
       "PS4         108.74\n",
       "PS3         103.38\n",
       "XOne         93.12\n",
       "3DS          55.31"
      ]
     },
     "execution_count": 74,
     "metadata": {},
     "output_type": "execute_result"
    }
   ],
   "source": [
    "#построим сводную таблицу по платформам в регионе na, сгруппируем, отсортируем, выведем топ-5\n",
    "(actual_games.pivot_table(index = 'platform', values = 'na_sales', aggfunc = 'sum')\n",
    " .sort_values(by = 'na_sales', ascending = False).head(5)\n",
    ")"
   ]
  },
  {
   "cell_type": "code",
   "execution_count": 75,
   "metadata": {},
   "outputs": [
    {
     "data": {
      "text/html": [
       "<div>\n",
       "<style scoped>\n",
       "    .dataframe tbody tr th:only-of-type {\n",
       "        vertical-align: middle;\n",
       "    }\n",
       "\n",
       "    .dataframe tbody tr th {\n",
       "        vertical-align: top;\n",
       "    }\n",
       "\n",
       "    .dataframe thead th {\n",
       "        text-align: right;\n",
       "    }\n",
       "</style>\n",
       "<table border=\"1\" class=\"dataframe\">\n",
       "  <thead>\n",
       "    <tr style=\"text-align: right;\">\n",
       "      <th></th>\n",
       "      <th>eu_sales</th>\n",
       "    </tr>\n",
       "    <tr>\n",
       "      <th>platform</th>\n",
       "      <th></th>\n",
       "    </tr>\n",
       "  </thead>\n",
       "  <tbody>\n",
       "    <tr>\n",
       "      <td>PS4</td>\n",
       "      <td>141.09</td>\n",
       "    </tr>\n",
       "    <tr>\n",
       "      <td>PS3</td>\n",
       "      <td>106.86</td>\n",
       "    </tr>\n",
       "    <tr>\n",
       "      <td>X360</td>\n",
       "      <td>74.52</td>\n",
       "    </tr>\n",
       "    <tr>\n",
       "      <td>XOne</td>\n",
       "      <td>51.59</td>\n",
       "    </tr>\n",
       "    <tr>\n",
       "      <td>3DS</td>\n",
       "      <td>42.64</td>\n",
       "    </tr>\n",
       "  </tbody>\n",
       "</table>\n",
       "</div>"
      ],
      "text/plain": [
       "          eu_sales\n",
       "platform          \n",
       "PS4         141.09\n",
       "PS3         106.86\n",
       "X360         74.52\n",
       "XOne         51.59\n",
       "3DS          42.64"
      ]
     },
     "execution_count": 75,
     "metadata": {},
     "output_type": "execute_result"
    }
   ],
   "source": [
    "#построим сводную таблицу по платформам в регионе eu, сгруппируем, отсортируем, выведем топ-5\n",
    "(actual_games.pivot_table(index = 'platform', values = 'eu_sales', aggfunc = 'sum')\n",
    " .sort_values(by = 'eu_sales', ascending = False).head(5)\n",
    ")"
   ]
  },
  {
   "cell_type": "code",
   "execution_count": 76,
   "metadata": {},
   "outputs": [
    {
     "data": {
      "text/html": [
       "<div>\n",
       "<style scoped>\n",
       "    .dataframe tbody tr th:only-of-type {\n",
       "        vertical-align: middle;\n",
       "    }\n",
       "\n",
       "    .dataframe tbody tr th {\n",
       "        vertical-align: top;\n",
       "    }\n",
       "\n",
       "    .dataframe thead th {\n",
       "        text-align: right;\n",
       "    }\n",
       "</style>\n",
       "<table border=\"1\" class=\"dataframe\">\n",
       "  <thead>\n",
       "    <tr style=\"text-align: right;\">\n",
       "      <th></th>\n",
       "      <th>jp_sales</th>\n",
       "    </tr>\n",
       "    <tr>\n",
       "      <th>platform</th>\n",
       "      <th></th>\n",
       "    </tr>\n",
       "  </thead>\n",
       "  <tbody>\n",
       "    <tr>\n",
       "      <td>3DS</td>\n",
       "      <td>87.79</td>\n",
       "    </tr>\n",
       "    <tr>\n",
       "      <td>PS3</td>\n",
       "      <td>35.29</td>\n",
       "    </tr>\n",
       "    <tr>\n",
       "      <td>PSV</td>\n",
       "      <td>21.04</td>\n",
       "    </tr>\n",
       "    <tr>\n",
       "      <td>PS4</td>\n",
       "      <td>15.96</td>\n",
       "    </tr>\n",
       "    <tr>\n",
       "      <td>WiiU</td>\n",
       "      <td>13.01</td>\n",
       "    </tr>\n",
       "  </tbody>\n",
       "</table>\n",
       "</div>"
      ],
      "text/plain": [
       "          jp_sales\n",
       "platform          \n",
       "3DS          87.79\n",
       "PS3          35.29\n",
       "PSV          21.04\n",
       "PS4          15.96\n",
       "WiiU         13.01"
      ]
     },
     "execution_count": 76,
     "metadata": {},
     "output_type": "execute_result"
    }
   ],
   "source": [
    "#построим сводную таблицу по платформам в регионе gp, сгруппируем, отсортируем, выведем топ-5\n",
    "(actual_games.pivot_table(index = 'platform', values = 'jp_sales', aggfunc = 'sum')\n",
    " .sort_values(by = 'jp_sales', ascending = False).head(5)\n",
    ")"
   ]
  },
  {
   "cell_type": "markdown",
   "metadata": {},
   "source": [
    "Определим для пользователя каждого региона (NA, EU, JP) самые популярные платформы (топ-5). Из полученных данных видим, что ведущие платформы в регионах существенно различаются, особенно в Японии.\n",
    "В США лидирует платформа X360; в Европе она занимает третье место, а в топ-5 по Японии она вообще не попала.\n",
    "PS4 лидирует в Европе; в США занимает второе место, а в Японии - четвертое.\n",
    "PS3 занимает второе место в Европе и Японии, в США - третье.\n",
    "XOne находится на четвертой позиции в США и Европе; в Японии она не попала в топ-5.\n",
    "3DS в Японии лидирует, а в США и Европе занимает последнее - 5 место."
   ]
  },
  {
   "cell_type": "code",
   "execution_count": 77,
   "metadata": {},
   "outputs": [
    {
     "data": {
      "text/html": [
       "<div>\n",
       "<style scoped>\n",
       "    .dataframe tbody tr th:only-of-type {\n",
       "        vertical-align: middle;\n",
       "    }\n",
       "\n",
       "    .dataframe tbody tr th {\n",
       "        vertical-align: top;\n",
       "    }\n",
       "\n",
       "    .dataframe thead th {\n",
       "        text-align: right;\n",
       "    }\n",
       "</style>\n",
       "<table border=\"1\" class=\"dataframe\">\n",
       "  <thead>\n",
       "    <tr style=\"text-align: right;\">\n",
       "      <th></th>\n",
       "      <th>na_sales</th>\n",
       "    </tr>\n",
       "    <tr>\n",
       "      <th>genre</th>\n",
       "      <th></th>\n",
       "    </tr>\n",
       "  </thead>\n",
       "  <tbody>\n",
       "    <tr>\n",
       "      <td>Action</td>\n",
       "      <td>177.84</td>\n",
       "    </tr>\n",
       "    <tr>\n",
       "      <td>Shooter</td>\n",
       "      <td>144.77</td>\n",
       "    </tr>\n",
       "    <tr>\n",
       "      <td>Sports</td>\n",
       "      <td>81.53</td>\n",
       "    </tr>\n",
       "    <tr>\n",
       "      <td>Role-Playing</td>\n",
       "      <td>64.00</td>\n",
       "    </tr>\n",
       "    <tr>\n",
       "      <td>Misc</td>\n",
       "      <td>38.19</td>\n",
       "    </tr>\n",
       "  </tbody>\n",
       "</table>\n",
       "</div>"
      ],
      "text/plain": [
       "              na_sales\n",
       "genre                 \n",
       "Action          177.84\n",
       "Shooter         144.77\n",
       "Sports           81.53\n",
       "Role-Playing     64.00\n",
       "Misc             38.19"
      ]
     },
     "execution_count": 77,
     "metadata": {},
     "output_type": "execute_result"
    }
   ],
   "source": [
    "#построим сводную таблицу по жанрам в регионе na, сгруппируем, отсортируем, выведем топ-5\n",
    "(actual_games.pivot_table(index = 'genre', values = 'na_sales', aggfunc = 'sum')\n",
    " .sort_values(by = 'na_sales', ascending = False).head(5)\n",
    ")"
   ]
  },
  {
   "cell_type": "code",
   "execution_count": 78,
   "metadata": {},
   "outputs": [
    {
     "data": {
      "text/html": [
       "<div>\n",
       "<style scoped>\n",
       "    .dataframe tbody tr th:only-of-type {\n",
       "        vertical-align: middle;\n",
       "    }\n",
       "\n",
       "    .dataframe tbody tr th {\n",
       "        vertical-align: top;\n",
       "    }\n",
       "\n",
       "    .dataframe thead th {\n",
       "        text-align: right;\n",
       "    }\n",
       "</style>\n",
       "<table border=\"1\" class=\"dataframe\">\n",
       "  <thead>\n",
       "    <tr style=\"text-align: right;\">\n",
       "      <th></th>\n",
       "      <th>eu_sales</th>\n",
       "    </tr>\n",
       "    <tr>\n",
       "      <th>genre</th>\n",
       "      <th></th>\n",
       "    </tr>\n",
       "  </thead>\n",
       "  <tbody>\n",
       "    <tr>\n",
       "      <td>Action</td>\n",
       "      <td>159.34</td>\n",
       "    </tr>\n",
       "    <tr>\n",
       "      <td>Shooter</td>\n",
       "      <td>113.47</td>\n",
       "    </tr>\n",
       "    <tr>\n",
       "      <td>Sports</td>\n",
       "      <td>69.09</td>\n",
       "    </tr>\n",
       "    <tr>\n",
       "      <td>Role-Playing</td>\n",
       "      <td>48.53</td>\n",
       "    </tr>\n",
       "    <tr>\n",
       "      <td>Racing</td>\n",
       "      <td>27.29</td>\n",
       "    </tr>\n",
       "  </tbody>\n",
       "</table>\n",
       "</div>"
      ],
      "text/plain": [
       "              eu_sales\n",
       "genre                 \n",
       "Action          159.34\n",
       "Shooter         113.47\n",
       "Sports           69.09\n",
       "Role-Playing     48.53\n",
       "Racing           27.29"
      ]
     },
     "execution_count": 78,
     "metadata": {},
     "output_type": "execute_result"
    }
   ],
   "source": [
    "#построим сводную таблицу по жанрам в регионе eu, сгруппируем, отсортируем, выведем топ-5\n",
    "(actual_games.pivot_table(index = 'genre', values = 'eu_sales', aggfunc = 'sum')\n",
    " .sort_values(by = 'eu_sales', ascending = False).head(5)\n",
    ")"
   ]
  },
  {
   "cell_type": "code",
   "execution_count": 79,
   "metadata": {},
   "outputs": [
    {
     "data": {
      "text/html": [
       "<div>\n",
       "<style scoped>\n",
       "    .dataframe tbody tr th:only-of-type {\n",
       "        vertical-align: middle;\n",
       "    }\n",
       "\n",
       "    .dataframe tbody tr th {\n",
       "        vertical-align: top;\n",
       "    }\n",
       "\n",
       "    .dataframe thead th {\n",
       "        text-align: right;\n",
       "    }\n",
       "</style>\n",
       "<table border=\"1\" class=\"dataframe\">\n",
       "  <thead>\n",
       "    <tr style=\"text-align: right;\">\n",
       "      <th></th>\n",
       "      <th>jp_sales</th>\n",
       "    </tr>\n",
       "    <tr>\n",
       "      <th>genre</th>\n",
       "      <th></th>\n",
       "    </tr>\n",
       "  </thead>\n",
       "  <tbody>\n",
       "    <tr>\n",
       "      <td>Role-Playing</td>\n",
       "      <td>65.44</td>\n",
       "    </tr>\n",
       "    <tr>\n",
       "      <td>Action</td>\n",
       "      <td>52.80</td>\n",
       "    </tr>\n",
       "    <tr>\n",
       "      <td>Misc</td>\n",
       "      <td>12.86</td>\n",
       "    </tr>\n",
       "    <tr>\n",
       "      <td>Simulation</td>\n",
       "      <td>10.41</td>\n",
       "    </tr>\n",
       "    <tr>\n",
       "      <td>Fighting</td>\n",
       "      <td>9.44</td>\n",
       "    </tr>\n",
       "  </tbody>\n",
       "</table>\n",
       "</div>"
      ],
      "text/plain": [
       "              jp_sales\n",
       "genre                 \n",
       "Role-Playing     65.44\n",
       "Action           52.80\n",
       "Misc             12.86\n",
       "Simulation       10.41\n",
       "Fighting          9.44"
      ]
     },
     "execution_count": 79,
     "metadata": {},
     "output_type": "execute_result"
    }
   ],
   "source": [
    "#построим сводную таблицу по жанрам в регионе jp, сгруппируем, отсортируем, выведем топ-5\n",
    "(actual_games.pivot_table(index = 'genre', values = 'jp_sales', aggfunc = 'sum')\n",
    " .sort_values(by = 'jp_sales', ascending = False).head(5)\n",
    ")"
   ]
  },
  {
   "cell_type": "markdown",
   "metadata": {},
   "source": [
    "Посмотрим самые популярные жанры (топ-5) по регионам. Здесь еще больше совпадений в США и Европе; Япония по-прежнему отличается.\n",
    "Жанры Action, Shooter и Sports и Role-Playing занимают первые четыре места в США и Европе. В Японии Action находится на втором месте, Role-Playing лидирует, а Shooter и Sports отсутствуют в топ-5.\n",
    "Жанр Misc в США находится на последнем месте, в Японии - на третьем, а в Европе не вошел в топ-5.\n",
    "Четвертую и пятую позиции в Японии занимают жанры Simulation и Fighting соответственно."
   ]
  },
  {
   "cell_type": "code",
   "execution_count": 80,
   "metadata": {},
   "outputs": [
    {
     "data": {
      "text/html": [
       "<div>\n",
       "<style scoped>\n",
       "    .dataframe tbody tr th:only-of-type {\n",
       "        vertical-align: middle;\n",
       "    }\n",
       "\n",
       "    .dataframe tbody tr th {\n",
       "        vertical-align: top;\n",
       "    }\n",
       "\n",
       "    .dataframe thead th {\n",
       "        text-align: right;\n",
       "    }\n",
       "</style>\n",
       "<table border=\"1\" class=\"dataframe\">\n",
       "  <thead>\n",
       "    <tr style=\"text-align: right;\">\n",
       "      <th></th>\n",
       "      <th>na_sales</th>\n",
       "    </tr>\n",
       "    <tr>\n",
       "      <th>rating</th>\n",
       "      <th></th>\n",
       "    </tr>\n",
       "  </thead>\n",
       "  <tbody>\n",
       "    <tr>\n",
       "      <td>M</td>\n",
       "      <td>231.57</td>\n",
       "    </tr>\n",
       "    <tr>\n",
       "      <td>E</td>\n",
       "      <td>114.37</td>\n",
       "    </tr>\n",
       "    <tr>\n",
       "      <td>E10+</td>\n",
       "      <td>75.70</td>\n",
       "    </tr>\n",
       "    <tr>\n",
       "      <td>T</td>\n",
       "      <td>66.02</td>\n",
       "    </tr>\n",
       "  </tbody>\n",
       "</table>\n",
       "</div>"
      ],
      "text/plain": [
       "        na_sales\n",
       "rating          \n",
       "M         231.57\n",
       "E         114.37\n",
       "E10+       75.70\n",
       "T          66.02"
      ]
     },
     "execution_count": 80,
     "metadata": {},
     "output_type": "execute_result"
    }
   ],
   "source": [
    "#построим сводную таблицу по продажам в регионе na и рейтингу\n",
    "(actual_games.pivot_table(index = 'rating', values = 'na_sales', aggfunc = 'sum')\n",
    " .sort_values(by = 'na_sales', ascending = False)\n",
    ")"
   ]
  },
  {
   "cell_type": "code",
   "execution_count": 81,
   "metadata": {},
   "outputs": [
    {
     "data": {
      "text/html": [
       "<div>\n",
       "<style scoped>\n",
       "    .dataframe tbody tr th:only-of-type {\n",
       "        vertical-align: middle;\n",
       "    }\n",
       "\n",
       "    .dataframe tbody tr th {\n",
       "        vertical-align: top;\n",
       "    }\n",
       "\n",
       "    .dataframe thead th {\n",
       "        text-align: right;\n",
       "    }\n",
       "</style>\n",
       "<table border=\"1\" class=\"dataframe\">\n",
       "  <thead>\n",
       "    <tr style=\"text-align: right;\">\n",
       "      <th></th>\n",
       "      <th>eu_sales</th>\n",
       "    </tr>\n",
       "    <tr>\n",
       "      <th>rating</th>\n",
       "      <th></th>\n",
       "    </tr>\n",
       "  </thead>\n",
       "  <tbody>\n",
       "    <tr>\n",
       "      <td>M</td>\n",
       "      <td>193.96</td>\n",
       "    </tr>\n",
       "    <tr>\n",
       "      <td>E</td>\n",
       "      <td>113.03</td>\n",
       "    </tr>\n",
       "    <tr>\n",
       "      <td>E10+</td>\n",
       "      <td>55.37</td>\n",
       "    </tr>\n",
       "    <tr>\n",
       "      <td>T</td>\n",
       "      <td>52.96</td>\n",
       "    </tr>\n",
       "  </tbody>\n",
       "</table>\n",
       "</div>"
      ],
      "text/plain": [
       "        eu_sales\n",
       "rating          \n",
       "M         193.96\n",
       "E         113.03\n",
       "E10+       55.37\n",
       "T          52.96"
      ]
     },
     "execution_count": 81,
     "metadata": {},
     "output_type": "execute_result"
    }
   ],
   "source": [
    "#построим сводную таблицу по продажам в регионе eu и рейтингу\n",
    "(actual_games.pivot_table(index = 'rating', values = 'eu_sales', aggfunc = 'sum')\n",
    " .sort_values(by = 'eu_sales', ascending = False)\n",
    ")"
   ]
  },
  {
   "cell_type": "code",
   "execution_count": 82,
   "metadata": {},
   "outputs": [
    {
     "data": {
      "text/html": [
       "<div>\n",
       "<style scoped>\n",
       "    .dataframe tbody tr th:only-of-type {\n",
       "        vertical-align: middle;\n",
       "    }\n",
       "\n",
       "    .dataframe tbody tr th {\n",
       "        vertical-align: top;\n",
       "    }\n",
       "\n",
       "    .dataframe thead th {\n",
       "        text-align: right;\n",
       "    }\n",
       "</style>\n",
       "<table border=\"1\" class=\"dataframe\">\n",
       "  <thead>\n",
       "    <tr style=\"text-align: right;\">\n",
       "      <th></th>\n",
       "      <th>jp_sales</th>\n",
       "    </tr>\n",
       "    <tr>\n",
       "      <th>rating</th>\n",
       "      <th></th>\n",
       "    </tr>\n",
       "  </thead>\n",
       "  <tbody>\n",
       "    <tr>\n",
       "      <td>E</td>\n",
       "      <td>28.33</td>\n",
       "    </tr>\n",
       "    <tr>\n",
       "      <td>T</td>\n",
       "      <td>26.02</td>\n",
       "    </tr>\n",
       "    <tr>\n",
       "      <td>M</td>\n",
       "      <td>21.20</td>\n",
       "    </tr>\n",
       "    <tr>\n",
       "      <td>E10+</td>\n",
       "      <td>8.19</td>\n",
       "    </tr>\n",
       "  </tbody>\n",
       "</table>\n",
       "</div>"
      ],
      "text/plain": [
       "        jp_sales\n",
       "rating          \n",
       "E          28.33\n",
       "T          26.02\n",
       "M          21.20\n",
       "E10+        8.19"
      ]
     },
     "execution_count": 82,
     "metadata": {},
     "output_type": "execute_result"
    }
   ],
   "source": [
    "#построим сводную таблицу по продажам в регионе jp и рейтингу\n",
    "(actual_games.pivot_table(index = 'rating', values = 'jp_sales', aggfunc = 'sum')\n",
    " .sort_values(by = 'jp_sales', ascending = False)\n",
    ")"
   ]
  },
  {
   "cell_type": "markdown",
   "metadata": {},
   "source": [
    "Выясним, влияет ли рейтинг ESRB на продажи в отдельном регионе.\n",
    "В Европе и США одинаковое распределение популярности рейтингов: на первом месте продажи игр с рейтингом М, затем Е, Е10+ и Т.\n",
    "В Японии соотношение иное. На первом месте игры с рейтингом Е, затем Т и М, и меньше всего продается игр с рейтингом Е10+.\n",
    "Таким образом, рейтинг влияет на уровень продаж, и на рынке Японии популярны игры не с такими рейтингами, как в Европе и США."
   ]
  },
  {
   "cell_type": "markdown",
   "metadata": {},
   "source": [
    "### Шаг 5. Проверка гипотез"
   ]
  },
  {
   "cell_type": "code",
   "execution_count": 83,
   "metadata": {},
   "outputs": [
    {
     "name": "stdout",
     "output_type": "stream",
     "text": [
      "p-значение: 0.06811033795099536\n",
      "Не получилось отвергнуть нулевую гипотезу\n"
     ]
    }
   ],
   "source": [
    "#сохраним в переменные средние пользовательские рейтинги платформ Xbox One и PC\n",
    "Xbox_mean_user_score = actual_games.query('platform == \"XOne\"')['user_score']\n",
    "PC_mean_user_score = actual_games.query('platform == \"PC\"')['user_score']\n",
    "\n",
    "#проверим гипотезу\n",
    "alpha = 0.05\n",
    "results = st.ttest_ind(\n",
    "    Xbox_mean_user_score, \n",
    "    PC_mean_user_score, equal_var = False)\n",
    "\n",
    "print('p-значение:', results.pvalue)\n",
    "#задаем условие\n",
    "if (results.pvalue < alpha):\n",
    "    print(\"Отвергаем нулевую гипотезу\")\n",
    "else:\n",
    "    print(\"Не получилось отвергнуть нулевую гипотезу\")"
   ]
  },
  {
   "cell_type": "markdown",
   "metadata": {},
   "source": [
    "Выясним, одинаковы ли средние пользовательские рейтинги платформ Xbox One и PC.\n",
    "\n",
    "Для этого нужно сформулировать двухстороннюю нулевую гипотезу, характерным признаком которой будет знак равенства в формулировке, и альтернативную, в формулировке которой будет знак неравенства.\n",
    "\n",
    "Сформулируем нулевую гипотезу: средние пользовательские рейтинги платформы Xbox One равны средним пользовательским рейтингам платформы PC. Альтернативная гипотеза: средние пользовательские рейтинги платформы Xbox One не равны средним пользовательским рейтингам платформы PC.\n",
    "\n",
    "Получилась гипотеза о равенстве среднего двух генеральных совокупностей по взятым из них выборкам. Для нее подходит метод scipy.stats.ttest_ind (array1, array2, equal_var): он возвращает статистику разности между сравниваемыми значениями и уровень значимости для этой статистики. По результатам его работы мы понимаем, стоит ли отвергать нулевую гипотезу.\n",
    "\n",
    "Результат - не получилось отвергнуть нулевую гипотезу. Cредние пользовательские рейтинги платформ Xbox One и PC близки по значению."
   ]
  },
  {
   "cell_type": "code",
   "execution_count": 84,
   "metadata": {},
   "outputs": [
    {
     "name": "stdout",
     "output_type": "stream",
     "text": [
      "p-значение: 0.06811033795099536\n",
      "Не получилось отвергнуть нулевую гипотезу\n"
     ]
    }
   ],
   "source": [
    "#сохраним в переменные средние пользовательские рейтинги  жанров Action и Sports\n",
    "Action_mean_user_score = actual_games.query('genre == \"Action\"')['user_score']\n",
    "Sports_mean_user_score = actual_games.query('genre == \"Sports\"')['user_score']\n",
    "\n",
    "#проверим гипотезу\n",
    "alpha = 0.05\n",
    "results = st.ttest_ind(\n",
    "    Xbox_mean_user_score, \n",
    "    PC_mean_user_score, equal_var = False)\n",
    "\n",
    "print('p-значение:', results.pvalue)\n",
    "#задаем условие\n",
    "if (results.pvalue < alpha):\n",
    "    print(\"Отвергаем нулевую гипотезу\")\n",
    "else:\n",
    "    print(\"Не получилось отвергнуть нулевую гипотезу\")"
   ]
  },
  {
   "cell_type": "markdown",
   "metadata": {},
   "source": [
    "Выясним, различаются ли средние пользовательские рейтинги жанров Action (англ. «действие») и Sports (англ. «виды спорта»).\n",
    "\n",
    "Сформулируем нулевую гипотезу: средние пользовательские рейтинги жанров Action и Sports равны. Альтернативная гипотеза:  средние пользовательские рейтинги жанров Action и Sports не равны.\n",
    "\n",
    "Результат - не получилось отвергнуть нулевую гипотезу. Cредние пользовательские рейтинги жанров Action и Sports близки по значению."
   ]
  },
  {
   "cell_type": "markdown",
   "metadata": {},
   "source": [
    "### Шаг 6. Общий вывод"
   ]
  },
  {
   "cell_type": "markdown",
   "metadata": {},
   "source": [
    "Закономерности, определяющие успешность игры - это:\n",
    "\n",
    " * предварительное изучение ситуации на рынке компьютерных игр за актуальный период (в данном случае - 5 лет до планируемого года);\n",
    " * размещение игр на платформах, лидирующих в данный период, с учетом срока жизни платформы (для рассмотренного периода этот отрезок составляет в среднем 8 лет);\n",
    " * соотнесение выбора платформы с регионом планируемых продаж (в США, Европе и Японии популярны разные платформы);\n",
    " * жанровая ориентированность на определенный регион (в США и Европе приверженность определенным жанром подобна, в Японии - отличается);\n",
    " * рейтинговая (по ESRB) ориентированность на регион (в Японии предпочитают игры совершенно других рейтингов, чем в США и Европе).\n",
    " \n",
    "Оценки критиков и пользователей не следует рассматривать как определяющие в планировании продаж, поскольку их корреляция с продажами невелика, средние пользовательские рейтинги разных жанров и средние пользовательские рейтинги разных платформ близки по значению."
   ]
  }
 ],
 "metadata": {
  "kernelspec": {
   "display_name": "Python 3",
   "language": "python",
   "name": "python3"
  },
  "language_info": {
   "codemirror_mode": {
    "name": "ipython",
    "version": 3
   },
   "file_extension": ".py",
   "mimetype": "text/x-python",
   "name": "python",
   "nbconvert_exporter": "python",
   "pygments_lexer": "ipython3",
   "version": "3.7.4"
  }
 },
 "nbformat": 4,
 "nbformat_minor": 2
}

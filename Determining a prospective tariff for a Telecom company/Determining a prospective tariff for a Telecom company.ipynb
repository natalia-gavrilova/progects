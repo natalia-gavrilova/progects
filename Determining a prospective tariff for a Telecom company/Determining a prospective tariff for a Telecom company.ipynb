{
 "cells": [
  {
   "cell_type": "markdown",
   "metadata": {},
   "source": [
    "# Определение перспективного тарифа для телеком компании"
   ]
  },
  {
   "cell_type": "markdown",
   "metadata": {},
   "source": [
    "## Описание проекта\n",
    "«Мегалайн» — федеральный оператор сотовой связи. Клиентам предлагают два тарифных плана: «Смарт» и «Ультра». Чтобы скорректировать рекламный бюджет, коммерческий департамент хочет понять, какой тариф приносит больше денег.\n",
    "Предстоит сделать предварительный анализ тарифов на небольшой выборке клиентов. В нашем распоряжении данные 500 пользователей «Мегалайна»: кто они, откуда, каким тарифом пользуются, сколько звонков и сообщений каждый отправил за 2018 год. Нужно проанализировать поведение клиентов и сделать вывод — какой тариф лучше.\n",
    "\n",
    "#### Описание тарифов\n",
    "##### Тариф «Смарт»\n",
    "1. Ежемесячная плата: 550 рублей\n",
    "2. Включено 500 минут разговора, 50 сообщений и 15 Гб интернет-трафика\n",
    "3. Стоимость услуг сверх тарифного пакета:\n",
    "* минута разговора: 3 рубля\n",
    "* сообщение: 3 рубля\n",
    "* 1 Гб интернет-трафика: 200 рублей\n",
    "\n",
    "##### Тариф «Ультра»\n",
    "\n",
    "1. Ежемесячная плата: 1950 рублей\n",
    "2. Включено 3000 минут разговора, 1000 сообщений и 30 Гб интернет-трафика\n",
    "3. Стоимость услуг сверх тарифного пакета:\n",
    "* минута разговора: 1 рубль\n",
    "* сообщение: 1 рубль\n",
    "* 1 Гб интернет-трафика: 150 рублей\n",
    "\n",
    "Примечание: «Мегалайн» всегда округляет вверх значения минут и мегабайтов. Если пользователь проговорил всего 1 секунду, в тарифе засчитывается целая минута."
   ]
  },
  {
   "cell_type": "markdown",
   "metadata": {},
   "source": [
    "### План работы\n",
    "\n",
    "1. Открыть файлы с данными, изучить общую информацию.\n",
    "2. Произвести предобработку данных: привести их к нужным типам, найти и исправить ошибки.\n",
    "3. Посчитать для каждого пользователя: количество сделанных звонков и израсходованных минут разговора по месяцам; количество отправленных сообщений по месяцам; объем израсходованного интернет-трафика по месяцам; помесячную выручку с каждого пользователя.\n",
    "4. Проанализировать данные: описать поведение клиентов оператора, исходя из выборки. Выяснить, сколько минут разговора, сколько сообщений и какой объём интернет-трафика требуется пользователям каждого тарифа в месяц. Посчитать среднее количество, дисперсию и стандартное отклонение. Построить гистограммы. Описать распределения.\n",
    "5. Проверить гипотезы: средняя выручка пользователей тарифов «Ультра» и «Смарт» различается; средняя выручка пользователей из Москвы отличается от выручки пользователей из других регионов. Пояснить, как формулировались нулевуая и альтернативная гипотезы; какой критерий использовался для проверки гипотез и почему.\n",
    "6. Написать общий вывод."
   ]
  },
  {
   "cell_type": "markdown",
   "metadata": {},
   "source": [
    "### Шаг 1. Открываем файл с данными и изучаем общую информацию"
   ]
  },
  {
   "cell_type": "code",
   "execution_count": 29,
   "metadata": {},
   "outputs": [],
   "source": [
    "import pandas as pd #импортируем библиотеки\n",
    "import matplotlib.pyplot as plt\n",
    "from math import factorial\n",
    "import math as mt\n",
    "from scipy.stats import norm\n",
    "from scipy import stats as st\n",
    "import random\n",
    "import numpy as np\n",
    "from functools import reduce"
   ]
  },
  {
   "cell_type": "code",
   "execution_count": 30,
   "metadata": {},
   "outputs": [],
   "source": [
    "#прочитаем файлы, присвоим таблицам имена\n",
    "calls = pd.read_csv('/datasets/calls.csv') \n",
    "\n",
    "internet = pd.read_csv('/datasets/internet.csv') \n",
    "\n",
    "messages = pd.read_csv('/datasets/messages.csv') \n",
    "\n",
    "tariffs = pd.read_csv('/datasets/tariffs.csv') \n",
    "\n",
    "users = pd.read_csv('/datasets/users.csv') "
   ]
  },
  {
   "cell_type": "code",
   "execution_count": 31,
   "metadata": {},
   "outputs": [],
   "source": [
    "calls.to_csv('calls')\n",
    "internet.to_csv('internet')\n",
    "messages.to_csv('messages')\n",
    "tariffs.to_csv('tariffs')\n",
    "users.to_csv('users')"
   ]
  },
  {
   "cell_type": "code",
   "execution_count": 32,
   "metadata": {},
   "outputs": [
    {
     "name": "stdout",
     "output_type": "stream",
     "text": [
      "<class 'pandas.core.frame.DataFrame'>\n",
      "RangeIndex: 202607 entries, 0 to 202606\n",
      "Data columns (total 4 columns):\n",
      "id           202607 non-null object\n",
      "call_date    202607 non-null object\n",
      "duration     202607 non-null float64\n",
      "user_id      202607 non-null int64\n",
      "dtypes: float64(1), int64(1), object(2)\n",
      "memory usage: 6.2+ MB\n"
     ]
    }
   ],
   "source": [
    "calls.info() #посмотрим общую информацию о таблице calls"
   ]
  },
  {
   "cell_type": "code",
   "execution_count": 33,
   "metadata": {},
   "outputs": [
    {
     "data": {
      "text/html": [
       "<div>\n",
       "<style scoped>\n",
       "    .dataframe tbody tr th:only-of-type {\n",
       "        vertical-align: middle;\n",
       "    }\n",
       "\n",
       "    .dataframe tbody tr th {\n",
       "        vertical-align: top;\n",
       "    }\n",
       "\n",
       "    .dataframe thead th {\n",
       "        text-align: right;\n",
       "    }\n",
       "</style>\n",
       "<table border=\"1\" class=\"dataframe\">\n",
       "  <thead>\n",
       "    <tr style=\"text-align: right;\">\n",
       "      <th></th>\n",
       "      <th>id</th>\n",
       "      <th>call_date</th>\n",
       "      <th>duration</th>\n",
       "      <th>user_id</th>\n",
       "    </tr>\n",
       "  </thead>\n",
       "  <tbody>\n",
       "    <tr>\n",
       "      <td>0</td>\n",
       "      <td>1000_0</td>\n",
       "      <td>2018-07-25</td>\n",
       "      <td>0.00</td>\n",
       "      <td>1000</td>\n",
       "    </tr>\n",
       "    <tr>\n",
       "      <td>1</td>\n",
       "      <td>1000_1</td>\n",
       "      <td>2018-08-17</td>\n",
       "      <td>0.00</td>\n",
       "      <td>1000</td>\n",
       "    </tr>\n",
       "    <tr>\n",
       "      <td>2</td>\n",
       "      <td>1000_2</td>\n",
       "      <td>2018-06-11</td>\n",
       "      <td>2.85</td>\n",
       "      <td>1000</td>\n",
       "    </tr>\n",
       "    <tr>\n",
       "      <td>3</td>\n",
       "      <td>1000_3</td>\n",
       "      <td>2018-09-21</td>\n",
       "      <td>13.80</td>\n",
       "      <td>1000</td>\n",
       "    </tr>\n",
       "    <tr>\n",
       "      <td>4</td>\n",
       "      <td>1000_4</td>\n",
       "      <td>2018-12-15</td>\n",
       "      <td>5.18</td>\n",
       "      <td>1000</td>\n",
       "    </tr>\n",
       "    <tr>\n",
       "      <td>5</td>\n",
       "      <td>1000_5</td>\n",
       "      <td>2018-11-02</td>\n",
       "      <td>0.00</td>\n",
       "      <td>1000</td>\n",
       "    </tr>\n",
       "    <tr>\n",
       "      <td>6</td>\n",
       "      <td>1000_6</td>\n",
       "      <td>2018-10-18</td>\n",
       "      <td>0.00</td>\n",
       "      <td>1000</td>\n",
       "    </tr>\n",
       "    <tr>\n",
       "      <td>7</td>\n",
       "      <td>1000_7</td>\n",
       "      <td>2018-08-22</td>\n",
       "      <td>18.31</td>\n",
       "      <td>1000</td>\n",
       "    </tr>\n",
       "    <tr>\n",
       "      <td>8</td>\n",
       "      <td>1000_8</td>\n",
       "      <td>2018-09-15</td>\n",
       "      <td>18.44</td>\n",
       "      <td>1000</td>\n",
       "    </tr>\n",
       "    <tr>\n",
       "      <td>9</td>\n",
       "      <td>1000_9</td>\n",
       "      <td>2018-08-15</td>\n",
       "      <td>0.00</td>\n",
       "      <td>1000</td>\n",
       "    </tr>\n",
       "  </tbody>\n",
       "</table>\n",
       "</div>"
      ],
      "text/plain": [
       "       id   call_date  duration  user_id\n",
       "0  1000_0  2018-07-25      0.00     1000\n",
       "1  1000_1  2018-08-17      0.00     1000\n",
       "2  1000_2  2018-06-11      2.85     1000\n",
       "3  1000_3  2018-09-21     13.80     1000\n",
       "4  1000_4  2018-12-15      5.18     1000\n",
       "5  1000_5  2018-11-02      0.00     1000\n",
       "6  1000_6  2018-10-18      0.00     1000\n",
       "7  1000_7  2018-08-22     18.31     1000\n",
       "8  1000_8  2018-09-15     18.44     1000\n",
       "9  1000_9  2018-08-15      0.00     1000"
      ]
     },
     "execution_count": 33,
     "metadata": {},
     "output_type": "execute_result"
    }
   ],
   "source": [
    "calls.head(10) #выведем первые 10 строк"
   ]
  },
  {
   "cell_type": "markdown",
   "metadata": {},
   "source": [
    "Таблица calls содержит столбцы:\n",
    "\n",
    "* уникальный номер звонка\n",
    "* call_date — дата звонка\n",
    "* duration — длительность звонка в минутах\n",
    "* user_id — идентификатор пользователя, сделавшего звонок\n",
    "\n",
    "Пропущенных значений нет. У большого количества звонков длительность 0 минут. Скорее всего, они появились по причине ошибки в данных. Нужно будет посмотреть, сколько в столбце таких значений и заменить их. Тип данных float в столбце duration лучше не заменять, потому что цифры после запятой будут важны. \n",
    "\n",
    "Также в столбце со временем видим странные значения секунд, превышающие 60. Возможно, это следствие ошибки выгрузки, нужно будет привести отображение времени в нормальный вид. "
   ]
  },
  {
   "cell_type": "code",
   "execution_count": 34,
   "metadata": {},
   "outputs": [
    {
     "name": "stdout",
     "output_type": "stream",
     "text": [
      "<class 'pandas.core.frame.DataFrame'>\n",
      "RangeIndex: 149396 entries, 0 to 149395\n",
      "Data columns (total 4 columns):\n",
      "id              149396 non-null object\n",
      "mb_used         149396 non-null float64\n",
      "session_date    149396 non-null object\n",
      "user_id         149396 non-null int64\n",
      "dtypes: float64(1), int64(1), object(2)\n",
      "memory usage: 4.6+ MB\n"
     ]
    }
   ],
   "source": [
    "internet.info() #посмотрим общую информацию о таблице internet"
   ]
  },
  {
   "cell_type": "code",
   "execution_count": 35,
   "metadata": {},
   "outputs": [
    {
     "data": {
      "text/html": [
       "<div>\n",
       "<style scoped>\n",
       "    .dataframe tbody tr th:only-of-type {\n",
       "        vertical-align: middle;\n",
       "    }\n",
       "\n",
       "    .dataframe tbody tr th {\n",
       "        vertical-align: top;\n",
       "    }\n",
       "\n",
       "    .dataframe thead th {\n",
       "        text-align: right;\n",
       "    }\n",
       "</style>\n",
       "<table border=\"1\" class=\"dataframe\">\n",
       "  <thead>\n",
       "    <tr style=\"text-align: right;\">\n",
       "      <th></th>\n",
       "      <th>id</th>\n",
       "      <th>mb_used</th>\n",
       "      <th>session_date</th>\n",
       "      <th>user_id</th>\n",
       "    </tr>\n",
       "  </thead>\n",
       "  <tbody>\n",
       "    <tr>\n",
       "      <td>0</td>\n",
       "      <td>1000_0</td>\n",
       "      <td>112.95</td>\n",
       "      <td>2018-11-25</td>\n",
       "      <td>1000</td>\n",
       "    </tr>\n",
       "    <tr>\n",
       "      <td>1</td>\n",
       "      <td>1000_1</td>\n",
       "      <td>1052.81</td>\n",
       "      <td>2018-09-07</td>\n",
       "      <td>1000</td>\n",
       "    </tr>\n",
       "    <tr>\n",
       "      <td>2</td>\n",
       "      <td>1000_2</td>\n",
       "      <td>1197.26</td>\n",
       "      <td>2018-06-25</td>\n",
       "      <td>1000</td>\n",
       "    </tr>\n",
       "    <tr>\n",
       "      <td>3</td>\n",
       "      <td>1000_3</td>\n",
       "      <td>550.27</td>\n",
       "      <td>2018-08-22</td>\n",
       "      <td>1000</td>\n",
       "    </tr>\n",
       "    <tr>\n",
       "      <td>4</td>\n",
       "      <td>1000_4</td>\n",
       "      <td>302.56</td>\n",
       "      <td>2018-09-24</td>\n",
       "      <td>1000</td>\n",
       "    </tr>\n",
       "    <tr>\n",
       "      <td>5</td>\n",
       "      <td>1000_5</td>\n",
       "      <td>399.97</td>\n",
       "      <td>2018-10-02</td>\n",
       "      <td>1000</td>\n",
       "    </tr>\n",
       "    <tr>\n",
       "      <td>6</td>\n",
       "      <td>1000_6</td>\n",
       "      <td>540.08</td>\n",
       "      <td>2018-09-07</td>\n",
       "      <td>1000</td>\n",
       "    </tr>\n",
       "    <tr>\n",
       "      <td>7</td>\n",
       "      <td>1000_7</td>\n",
       "      <td>415.70</td>\n",
       "      <td>2018-07-11</td>\n",
       "      <td>1000</td>\n",
       "    </tr>\n",
       "    <tr>\n",
       "      <td>8</td>\n",
       "      <td>1000_8</td>\n",
       "      <td>505.40</td>\n",
       "      <td>2018-10-08</td>\n",
       "      <td>1000</td>\n",
       "    </tr>\n",
       "    <tr>\n",
       "      <td>9</td>\n",
       "      <td>1000_9</td>\n",
       "      <td>345.54</td>\n",
       "      <td>2018-09-03</td>\n",
       "      <td>1000</td>\n",
       "    </tr>\n",
       "  </tbody>\n",
       "</table>\n",
       "</div>"
      ],
      "text/plain": [
       "       id  mb_used session_date  user_id\n",
       "0  1000_0   112.95   2018-11-25     1000\n",
       "1  1000_1  1052.81   2018-09-07     1000\n",
       "2  1000_2  1197.26   2018-06-25     1000\n",
       "3  1000_3   550.27   2018-08-22     1000\n",
       "4  1000_4   302.56   2018-09-24     1000\n",
       "5  1000_5   399.97   2018-10-02     1000\n",
       "6  1000_6   540.08   2018-09-07     1000\n",
       "7  1000_7   415.70   2018-07-11     1000\n",
       "8  1000_8   505.40   2018-10-08     1000\n",
       "9  1000_9   345.54   2018-09-03     1000"
      ]
     },
     "execution_count": 35,
     "metadata": {},
     "output_type": "execute_result"
    }
   ],
   "source": [
    "internet.head(10) #выведем первые 10 строк"
   ]
  },
  {
   "cell_type": "markdown",
   "metadata": {},
   "source": [
    "Таблица internet содержит столбцы:\n",
    "\n",
    "* d — уникальный номер сессии\n",
    "* mb_used — объём потраченного за сессию интернет-трафика (в мегабайтах)\n",
    "* session_date — дата интернет-сессии\n",
    "* user_id — идентификатор пользователя\n",
    "\n",
    "Пропущенных значений нет. Тип данных float в столбце mb_used лучше не заменять, потому что цифры после запятой будут важны. Значения в Мб нужно заменить на Гб."
   ]
  },
  {
   "cell_type": "code",
   "execution_count": 36,
   "metadata": {},
   "outputs": [
    {
     "name": "stdout",
     "output_type": "stream",
     "text": [
      "<class 'pandas.core.frame.DataFrame'>\n",
      "RangeIndex: 123036 entries, 0 to 123035\n",
      "Data columns (total 3 columns):\n",
      "id              123036 non-null object\n",
      "message_date    123036 non-null object\n",
      "user_id         123036 non-null int64\n",
      "dtypes: int64(1), object(2)\n",
      "memory usage: 2.8+ MB\n"
     ]
    }
   ],
   "source": [
    "messages.info() #посмотрим общую информацию о таблице messages"
   ]
  },
  {
   "cell_type": "code",
   "execution_count": 37,
   "metadata": {},
   "outputs": [
    {
     "data": {
      "text/html": [
       "<div>\n",
       "<style scoped>\n",
       "    .dataframe tbody tr th:only-of-type {\n",
       "        vertical-align: middle;\n",
       "    }\n",
       "\n",
       "    .dataframe tbody tr th {\n",
       "        vertical-align: top;\n",
       "    }\n",
       "\n",
       "    .dataframe thead th {\n",
       "        text-align: right;\n",
       "    }\n",
       "</style>\n",
       "<table border=\"1\" class=\"dataframe\">\n",
       "  <thead>\n",
       "    <tr style=\"text-align: right;\">\n",
       "      <th></th>\n",
       "      <th>id</th>\n",
       "      <th>message_date</th>\n",
       "      <th>user_id</th>\n",
       "    </tr>\n",
       "  </thead>\n",
       "  <tbody>\n",
       "    <tr>\n",
       "      <td>0</td>\n",
       "      <td>1000_0</td>\n",
       "      <td>2018-06-27</td>\n",
       "      <td>1000</td>\n",
       "    </tr>\n",
       "    <tr>\n",
       "      <td>1</td>\n",
       "      <td>1000_1</td>\n",
       "      <td>2018-10-08</td>\n",
       "      <td>1000</td>\n",
       "    </tr>\n",
       "    <tr>\n",
       "      <td>2</td>\n",
       "      <td>1000_2</td>\n",
       "      <td>2018-08-04</td>\n",
       "      <td>1000</td>\n",
       "    </tr>\n",
       "    <tr>\n",
       "      <td>3</td>\n",
       "      <td>1000_3</td>\n",
       "      <td>2018-06-16</td>\n",
       "      <td>1000</td>\n",
       "    </tr>\n",
       "    <tr>\n",
       "      <td>4</td>\n",
       "      <td>1000_4</td>\n",
       "      <td>2018-12-05</td>\n",
       "      <td>1000</td>\n",
       "    </tr>\n",
       "    <tr>\n",
       "      <td>5</td>\n",
       "      <td>1000_5</td>\n",
       "      <td>2018-06-20</td>\n",
       "      <td>1000</td>\n",
       "    </tr>\n",
       "    <tr>\n",
       "      <td>6</td>\n",
       "      <td>1000_6</td>\n",
       "      <td>2018-11-19</td>\n",
       "      <td>1000</td>\n",
       "    </tr>\n",
       "    <tr>\n",
       "      <td>7</td>\n",
       "      <td>1000_7</td>\n",
       "      <td>2018-10-29</td>\n",
       "      <td>1000</td>\n",
       "    </tr>\n",
       "    <tr>\n",
       "      <td>8</td>\n",
       "      <td>1000_8</td>\n",
       "      <td>2018-06-25</td>\n",
       "      <td>1000</td>\n",
       "    </tr>\n",
       "    <tr>\n",
       "      <td>9</td>\n",
       "      <td>1000_9</td>\n",
       "      <td>2018-12-18</td>\n",
       "      <td>1000</td>\n",
       "    </tr>\n",
       "  </tbody>\n",
       "</table>\n",
       "</div>"
      ],
      "text/plain": [
       "       id message_date  user_id\n",
       "0  1000_0   2018-06-27     1000\n",
       "1  1000_1   2018-10-08     1000\n",
       "2  1000_2   2018-08-04     1000\n",
       "3  1000_3   2018-06-16     1000\n",
       "4  1000_4   2018-12-05     1000\n",
       "5  1000_5   2018-06-20     1000\n",
       "6  1000_6   2018-11-19     1000\n",
       "7  1000_7   2018-10-29     1000\n",
       "8  1000_8   2018-06-25     1000\n",
       "9  1000_9   2018-12-18     1000"
      ]
     },
     "execution_count": 37,
     "metadata": {},
     "output_type": "execute_result"
    }
   ],
   "source": [
    "messages.head(10) #выведем первые 10 строк"
   ]
  },
  {
   "cell_type": "markdown",
   "metadata": {},
   "source": [
    "Таблица messages содержит столбцы:\n",
    "\n",
    "* id — уникальный номер сообщения\n",
    "* message_date — дата сообщения\n",
    "* user_id — идентификатор пользователя, отправившего сообщение\n",
    "\n",
    "Пропущенных значений нет."
   ]
  },
  {
   "cell_type": "code",
   "execution_count": 38,
   "metadata": {},
   "outputs": [
    {
     "name": "stdout",
     "output_type": "stream",
     "text": [
      "<class 'pandas.core.frame.DataFrame'>\n",
      "RangeIndex: 2 entries, 0 to 1\n",
      "Data columns (total 8 columns):\n",
      "messages_included        2 non-null int64\n",
      "mg_per_month_included    2 non-null int64\n",
      "minutes_included         2 non-null int64\n",
      "rub_monthly_fee          2 non-null int64\n",
      "rub_per_gb               2 non-null int64\n",
      "rub_per_message          2 non-null int64\n",
      "rub_per_minute           2 non-null int64\n",
      "tariff_name              2 non-null object\n",
      "dtypes: int64(7), object(1)\n",
      "memory usage: 256.0+ bytes\n"
     ]
    }
   ],
   "source": [
    "tariffs.info() #посмотрим общую информацию о таблице tariffs"
   ]
  },
  {
   "cell_type": "code",
   "execution_count": 39,
   "metadata": {},
   "outputs": [
    {
     "data": {
      "text/html": [
       "<div>\n",
       "<style scoped>\n",
       "    .dataframe tbody tr th:only-of-type {\n",
       "        vertical-align: middle;\n",
       "    }\n",
       "\n",
       "    .dataframe tbody tr th {\n",
       "        vertical-align: top;\n",
       "    }\n",
       "\n",
       "    .dataframe thead th {\n",
       "        text-align: right;\n",
       "    }\n",
       "</style>\n",
       "<table border=\"1\" class=\"dataframe\">\n",
       "  <thead>\n",
       "    <tr style=\"text-align: right;\">\n",
       "      <th></th>\n",
       "      <th>messages_included</th>\n",
       "      <th>mg_per_month_included</th>\n",
       "      <th>minutes_included</th>\n",
       "      <th>rub_monthly_fee</th>\n",
       "      <th>rub_per_gb</th>\n",
       "      <th>rub_per_message</th>\n",
       "      <th>rub_per_minute</th>\n",
       "      <th>tariff_name</th>\n",
       "    </tr>\n",
       "  </thead>\n",
       "  <tbody>\n",
       "    <tr>\n",
       "      <td>0</td>\n",
       "      <td>50</td>\n",
       "      <td>15360</td>\n",
       "      <td>500</td>\n",
       "      <td>550</td>\n",
       "      <td>200</td>\n",
       "      <td>3</td>\n",
       "      <td>3</td>\n",
       "      <td>smart</td>\n",
       "    </tr>\n",
       "    <tr>\n",
       "      <td>1</td>\n",
       "      <td>1000</td>\n",
       "      <td>30720</td>\n",
       "      <td>3000</td>\n",
       "      <td>1950</td>\n",
       "      <td>150</td>\n",
       "      <td>1</td>\n",
       "      <td>1</td>\n",
       "      <td>ultra</td>\n",
       "    </tr>\n",
       "  </tbody>\n",
       "</table>\n",
       "</div>"
      ],
      "text/plain": [
       "   messages_included  mg_per_month_included  minutes_included  \\\n",
       "0                 50                  15360               500   \n",
       "1               1000                  30720              3000   \n",
       "\n",
       "   rub_monthly_fee  rub_per_gb  rub_per_message  rub_per_minute tariff_name  \n",
       "0              550         200                3               3       smart  \n",
       "1             1950         150                1               1       ultra  "
      ]
     },
     "execution_count": 39,
     "metadata": {},
     "output_type": "execute_result"
    }
   ],
   "source": [
    "tariffs.head() #выведем первые строки"
   ]
  },
  {
   "cell_type": "markdown",
   "metadata": {},
   "source": [
    "Таблица tariffs содержит столбцы:\n",
    "\n",
    "* tariff_name — название тарифа\n",
    "* rub_monthly_fee — ежемесячная абонентская плата в рублях\n",
    "* minutes_included — количество минут разговора в месяц, включённых в абонентскую плату\n",
    "* messages_included — количество сообщений в месяц, включённых в абонентскую плату\n",
    "* mb_per_month_included — объём интернет-трафика, включённого в абонентскую плату (в мегабайтах)\n",
    "* rub_per_minute — стоимость минуты разговора сверх тарифного пакета (например, если в тарифе 100 минут разговора в месяц, то со 101 минуты будет взиматься плата)\n",
    "* rub_per_message — стоимость отправки сообщения сверх тарифного пакета\n",
    "* rub_per_gb — стоимость дополнительного гигабайта интернет-трафика сверх тарифного пакета (1 гигабайт = 1024 мегабайта)\n",
    "\n",
    "Пропущенных значений нет. Типы данных не требуют замены."
   ]
  },
  {
   "cell_type": "code",
   "execution_count": 40,
   "metadata": {},
   "outputs": [
    {
     "name": "stdout",
     "output_type": "stream",
     "text": [
      "<class 'pandas.core.frame.DataFrame'>\n",
      "RangeIndex: 500 entries, 0 to 499\n",
      "Data columns (total 8 columns):\n",
      "user_id       500 non-null int64\n",
      "age           500 non-null int64\n",
      "churn_date    38 non-null object\n",
      "city          500 non-null object\n",
      "first_name    500 non-null object\n",
      "last_name     500 non-null object\n",
      "reg_date      500 non-null object\n",
      "tariff        500 non-null object\n",
      "dtypes: int64(2), object(6)\n",
      "memory usage: 31.4+ KB\n"
     ]
    }
   ],
   "source": [
    "users.info() #посмотрим общую информацию о таблице users"
   ]
  },
  {
   "cell_type": "code",
   "execution_count": 41,
   "metadata": {},
   "outputs": [
    {
     "data": {
      "text/html": [
       "<div>\n",
       "<style scoped>\n",
       "    .dataframe tbody tr th:only-of-type {\n",
       "        vertical-align: middle;\n",
       "    }\n",
       "\n",
       "    .dataframe tbody tr th {\n",
       "        vertical-align: top;\n",
       "    }\n",
       "\n",
       "    .dataframe thead th {\n",
       "        text-align: right;\n",
       "    }\n",
       "</style>\n",
       "<table border=\"1\" class=\"dataframe\">\n",
       "  <thead>\n",
       "    <tr style=\"text-align: right;\">\n",
       "      <th></th>\n",
       "      <th>user_id</th>\n",
       "      <th>age</th>\n",
       "      <th>churn_date</th>\n",
       "      <th>city</th>\n",
       "      <th>first_name</th>\n",
       "      <th>last_name</th>\n",
       "      <th>reg_date</th>\n",
       "      <th>tariff</th>\n",
       "    </tr>\n",
       "  </thead>\n",
       "  <tbody>\n",
       "    <tr>\n",
       "      <td>0</td>\n",
       "      <td>1000</td>\n",
       "      <td>52</td>\n",
       "      <td>NaN</td>\n",
       "      <td>Краснодар</td>\n",
       "      <td>Рафаил</td>\n",
       "      <td>Верещагин</td>\n",
       "      <td>2018-05-25</td>\n",
       "      <td>ultra</td>\n",
       "    </tr>\n",
       "    <tr>\n",
       "      <td>1</td>\n",
       "      <td>1001</td>\n",
       "      <td>41</td>\n",
       "      <td>NaN</td>\n",
       "      <td>Москва</td>\n",
       "      <td>Иван</td>\n",
       "      <td>Ежов</td>\n",
       "      <td>2018-11-01</td>\n",
       "      <td>smart</td>\n",
       "    </tr>\n",
       "    <tr>\n",
       "      <td>2</td>\n",
       "      <td>1002</td>\n",
       "      <td>59</td>\n",
       "      <td>NaN</td>\n",
       "      <td>Стерлитамак</td>\n",
       "      <td>Евгений</td>\n",
       "      <td>Абрамович</td>\n",
       "      <td>2018-06-17</td>\n",
       "      <td>smart</td>\n",
       "    </tr>\n",
       "    <tr>\n",
       "      <td>3</td>\n",
       "      <td>1003</td>\n",
       "      <td>23</td>\n",
       "      <td>NaN</td>\n",
       "      <td>Москва</td>\n",
       "      <td>Белла</td>\n",
       "      <td>Белякова</td>\n",
       "      <td>2018-08-17</td>\n",
       "      <td>ultra</td>\n",
       "    </tr>\n",
       "    <tr>\n",
       "      <td>4</td>\n",
       "      <td>1004</td>\n",
       "      <td>68</td>\n",
       "      <td>NaN</td>\n",
       "      <td>Новокузнецк</td>\n",
       "      <td>Татьяна</td>\n",
       "      <td>Авдеенко</td>\n",
       "      <td>2018-05-14</td>\n",
       "      <td>ultra</td>\n",
       "    </tr>\n",
       "    <tr>\n",
       "      <td>5</td>\n",
       "      <td>1005</td>\n",
       "      <td>67</td>\n",
       "      <td>NaN</td>\n",
       "      <td>Набережные Челны</td>\n",
       "      <td>Афанасий</td>\n",
       "      <td>Горлов</td>\n",
       "      <td>2018-01-25</td>\n",
       "      <td>smart</td>\n",
       "    </tr>\n",
       "    <tr>\n",
       "      <td>6</td>\n",
       "      <td>1006</td>\n",
       "      <td>21</td>\n",
       "      <td>NaN</td>\n",
       "      <td>Ульяновск</td>\n",
       "      <td>Леонид</td>\n",
       "      <td>Ермолаев</td>\n",
       "      <td>2018-02-26</td>\n",
       "      <td>smart</td>\n",
       "    </tr>\n",
       "    <tr>\n",
       "      <td>7</td>\n",
       "      <td>1007</td>\n",
       "      <td>65</td>\n",
       "      <td>NaN</td>\n",
       "      <td>Москва</td>\n",
       "      <td>Юна</td>\n",
       "      <td>Березина</td>\n",
       "      <td>2018-04-19</td>\n",
       "      <td>smart</td>\n",
       "    </tr>\n",
       "    <tr>\n",
       "      <td>8</td>\n",
       "      <td>1008</td>\n",
       "      <td>63</td>\n",
       "      <td>NaN</td>\n",
       "      <td>Челябинск</td>\n",
       "      <td>Рустэм</td>\n",
       "      <td>Пономарёв</td>\n",
       "      <td>2018-12-19</td>\n",
       "      <td>smart</td>\n",
       "    </tr>\n",
       "    <tr>\n",
       "      <td>9</td>\n",
       "      <td>1009</td>\n",
       "      <td>24</td>\n",
       "      <td>NaN</td>\n",
       "      <td>Пермь</td>\n",
       "      <td>Василиса</td>\n",
       "      <td>Блинова</td>\n",
       "      <td>2018-03-22</td>\n",
       "      <td>smart</td>\n",
       "    </tr>\n",
       "  </tbody>\n",
       "</table>\n",
       "</div>"
      ],
      "text/plain": [
       "   user_id  age churn_date              city first_name  last_name  \\\n",
       "0     1000   52        NaN         Краснодар     Рафаил  Верещагин   \n",
       "1     1001   41        NaN            Москва       Иван       Ежов   \n",
       "2     1002   59        NaN       Стерлитамак    Евгений  Абрамович   \n",
       "3     1003   23        NaN            Москва      Белла   Белякова   \n",
       "4     1004   68        NaN       Новокузнецк    Татьяна   Авдеенко   \n",
       "5     1005   67        NaN  Набережные Челны   Афанасий     Горлов   \n",
       "6     1006   21        NaN         Ульяновск     Леонид   Ермолаев   \n",
       "7     1007   65        NaN            Москва        Юна   Березина   \n",
       "8     1008   63        NaN         Челябинск     Рустэм  Пономарёв   \n",
       "9     1009   24        NaN             Пермь   Василиса    Блинова   \n",
       "\n",
       "     reg_date tariff  \n",
       "0  2018-05-25  ultra  \n",
       "1  2018-11-01  smart  \n",
       "2  2018-06-17  smart  \n",
       "3  2018-08-17  ultra  \n",
       "4  2018-05-14  ultra  \n",
       "5  2018-01-25  smart  \n",
       "6  2018-02-26  smart  \n",
       "7  2018-04-19  smart  \n",
       "8  2018-12-19  smart  \n",
       "9  2018-03-22  smart  "
      ]
     },
     "execution_count": 41,
     "metadata": {},
     "output_type": "execute_result"
    }
   ],
   "source": [
    "users.head(10) #выведем первые 10 строк"
   ]
  },
  {
   "cell_type": "markdown",
   "metadata": {},
   "source": [
    "Таблица users содержит столбцы:\n",
    "\n",
    "* user_id — уникальный идентификатор пользователя\n",
    "* first_name — имя пользователя\n",
    "* last_name — фамилия пользователя\n",
    "* age — возраст пользователя (годы)\n",
    "* reg_date — дата подключения тарифа (день, месяц, год)\n",
    "* churn_date — дата прекращения пользования тарифом (если значение пропущено, то тариф ещё действовал на момент выгрузки данных)\n",
    "* city — город проживания пользователя\n",
    "* tariff — название тарифного плана\n",
    "\n",
    "В столбце churn_date всего лишь 38 строк без пропусков. Это означает, что у этих пользователей тариф еще действовал на момент выгрузки данных. Разумеется, мы не удаляем пропуски.\n",
    "Типы данных не требуют замены."
   ]
  },
  {
   "cell_type": "markdown",
   "metadata": {},
   "source": [
    "### Шаг 2. Подготовка данных"
   ]
  },
  {
   "cell_type": "code",
   "execution_count": 42,
   "metadata": {},
   "outputs": [
    {
     "data": {
      "text/plain": [
       "0          6.0\n",
       "1          6.0\n",
       "2          3.0\n",
       "3         14.0\n",
       "4          6.0\n",
       "          ... \n",
       "202602     1.0\n",
       "202603    19.0\n",
       "202604    11.0\n",
       "202605     5.0\n",
       "202606    20.0\n",
       "Name: duration, Length: 202607, dtype: float64"
      ]
     },
     "execution_count": 42,
     "metadata": {},
     "output_type": "execute_result"
    }
   ],
   "source": [
    "calls.loc[calls['duration'] == 0.00] #выводим строки с нулевыми значениями в столбце длительности звонков\n",
    "\n",
    "calls['duration'].mean() #находим среднее\n",
    "calls['duration'].median() #и медиану\n",
    "\n",
    "#посмотрим, какие значения есть в столбце\n",
    "duration_unique = calls['duration'].unique()\n",
    "duration_unique\n",
    "\n",
    "#зададим степень случайности\n",
    "random.seed(42) \n",
    "\n",
    "def calculate_p(N):\n",
    "    cnt_5_8 = 0\n",
    "    for i in range(N):\n",
    "        random_integer = random.randint(1, 26)\n",
    "        if random_integer >= 5 and random_integer <= 8:\n",
    "            cnt_5_8 += 1\n",
    "    return cnt_5_8 / N\n",
    "\n",
    "p_10000 = calculate_p(10000)\n",
    "#print('{:.1f}'.format(p_10000))\n",
    "\n",
    "calls.loc[calls['duration'] == 0.00, 'duration'] = 6.0 #заменяем некорректные значения медианой\n",
    "\n",
    "#округлим время в большую сторону до минут\n",
    "np.ceil(calls['duration'])"
   ]
  },
  {
   "cell_type": "markdown",
   "metadata": {},
   "source": [
    "Выведем строки с нулевыми значениями в столбце длительности звонков. Их очень много: 39613. \n",
    "Выясним, насколько вероятно, что нулевые значения в данных о длительности звонков приближаются к среднему. \n",
    "\n",
    "Сравним среднее и медиану: они достаточно близки, а значит - значения однородны. \n",
    "\n",
    "Посмотрим уникальные знаечния столбца: от 0 до 26.9. Зададим их в качестве отрезка в параметре случайных чисел. Вероятность того, что значение от 5 до 8 - типичны в столбце, составляет 20%.\n",
    "\n",
    "Значит, нули можно заменить на значение 6, соответствующее среднему, медиане и являющееся типичным для выборки.\n",
    "\n",
    "Округлим время до минут в большую сторону методом np.ceil."
   ]
  },
  {
   "cell_type": "code",
   "execution_count": 43,
   "metadata": {},
   "outputs": [
    {
     "data": {
      "text/plain": [
       "0         0.110303\n",
       "1         1.028135\n",
       "2         1.169199\n",
       "3         0.537373\n",
       "4         0.295469\n",
       "            ...   \n",
       "149391    0.311426\n",
       "149392    0.478643\n",
       "149393    0.000000\n",
       "149394    1.217109\n",
       "149395    0.531611\n",
       "Name: gb_used, Length: 149396, dtype: float64"
      ]
     },
     "execution_count": 43,
     "metadata": {},
     "output_type": "execute_result"
    }
   ],
   "source": [
    "#переведем мб в гб в таблице с тарифами, сохраним в новый столбец\n",
    "tariffs['gb_per_month_included'] = tariffs['mg_per_month_included'] / 1024\n",
    "tariffs['gb_per_month_included']\n",
    "\n",
    "#то же проделаем для таблицы internet\n",
    "internet['gb_used'] =internet['mb_used'] / 1024\n",
    "internet['gb_used']"
   ]
  },
  {
   "cell_type": "markdown",
   "metadata": {},
   "source": [
    "Поскольку тарифный расчет производится в Гб, то значения Мб нам нужно перевести в Гб. Это касается соответствующих столбцов в таблицах с тарифами и  с трафиком. Делим значения на 1024."
   ]
  },
  {
   "cell_type": "code",
   "execution_count": 44,
   "metadata": {},
   "outputs": [],
   "source": [
    "#приводим время к формату в таблице со звонками\n",
    "calls['call_date'] = pd.to_datetime(calls['call_date'], format='%Y-%m-%d')\n",
    "\n",
    "#создаем отдельный столбец с месяцем\n",
    "calls['month']= calls['call_date'].dt.month\n",
    "\n",
    "#округляем продолжительность звонков до большего значения\n",
    "calls['duration'] = np.ceil(calls['duration'])\n",
    "\n",
    "#группируем звонки по продолжительности за месяц\n",
    "calls_gr = calls.groupby(['user_id', 'month'])['duration'].sum()\n",
    "\n",
    "#переиндексируем строки\n",
    "calls_gr = calls_gr.reset_index(level = 'month')\n",
    "\n",
    "#объединим таблицы с пользователями и звонками\n",
    "users_calls = users.merge(calls_gr, on='user_id')\n",
    "\n",
    "#и с тарифами\n",
    "users_calls = users_calls.merge(tariffs, left_on='tariff', right_on ='tariff_name')\n",
    "\n",
    "#вычитаем из потраченных минут включенные в тариф\n",
    "users_calls['minutes_over_tariff'] = users_calls['duration'] - users_calls['minutes_included']\n",
    "\n",
    "#умножаем минуты сверх тарифа на цену в тарифе\n",
    "users_calls['call_add_fee'] = np.ceil(users_calls['minutes_over_tariff'])*users_calls['rub_per_minute']\n",
    "\n",
    "#заменяем отрицательные значения на нули\n",
    "users_calls['call_add_fee'] = users_calls['call_add_fee'].apply(lambda x: 0 if x < 0 else x)"
   ]
  },
  {
   "cell_type": "markdown",
   "metadata": {},
   "source": [
    "Посчитаем помесячную выручку по звонкам с каждого пользователя.\n",
    "Приведем время к формату. Создадим отельный столец с месяцем. Округлим продолжительность звонков до минут с помощью метода np.ceil.\n",
    "Сгруппируем звонки по продолжительности за месяц методами groupby, sum.\n",
    "Переиндексируем строки методом reset_index.\n",
    "Объединим таблицы: пользователи, звонки, тарифы.\n",
    "Вычтем из потраченных минут включенные в тариф.\n",
    "Умножим минуты сверх тарифа на цену в тарифе.\n",
    "Поскольку многие пользователи тратили меньше бесплатных услуг, чем предусморено в тарифе, получилось много отрицательных значений. Заменим их на нули."
   ]
  },
  {
   "cell_type": "code",
   "execution_count": 45,
   "metadata": {},
   "outputs": [],
   "source": [
    "#приводим время к формату в таблице с интернетом\n",
    "internet['session_date'] = pd.to_datetime(internet['session_date'], format='%Y-%m-%d')\n",
    "\n",
    "#создаем отдельный столбец с месяцем\n",
    "internet['month']= internet['session_date'].dt.month\n",
    "\n",
    "#округляем продолжительность звонков до большего значения\n",
    "internet['gb_used'] = np.ceil(internet['gb_used'])\n",
    "\n",
    "#группируем трафик за месяц\n",
    "internet_gr = internet.groupby(['user_id', 'month'])['gb_used'].sum()\n",
    "\n",
    "#переиндексируем строки\n",
    "internet_gr = internet_gr.reset_index(level = 'month')\n",
    "\n",
    "#объединим таблицы с пользователями, звонками и трафиком\n",
    "users_calls_internet = users_calls.merge(internet_gr, on=['user_id','month'])\n",
    "\n",
    "#вычитаем из потраченных Гб включенные в тариф\n",
    "users_calls_internet['gb_over_tariff'] = users_calls_internet['gb_used'] - users_calls['gb_per_month_included']\n",
    "\n",
    "#умножаем Гб сверх тарифа на цену в тарифе\n",
    "users_calls_internet['internet_add_fee'] = (np.ceil\n",
    "                                        (users_calls_internet['gb_over_tariff'])*users_calls_internet['gb_per_month_included']\n",
    "                                           )\n",
    "#заменяем отрицательные значения на нули\n",
    "users_calls_internet['internet_add_fee'] = users_calls_internet['internet_add_fee'].apply(lambda x: 0 if x < 0 else x)"
   ]
  },
  {
   "cell_type": "markdown",
   "metadata": {},
   "source": [
    "Посчитаем помесячную выручку по трафику с каждого пользователя.\n",
    "Приведем время к формату. Создадим отельный столец с месяцем. Округлим продолжительность звонков до минут с помощью метода np.ceil.\n",
    "Сгруппируем звонки по продолжительности за месяц методами groupby, sum.\n",
    "Переиндексируем строки методом reset_index.\n",
    "Объединим таблицы: пользователи, звонки, трафик, тарифы.\n",
    "Вычтем из потраченных минут включенные в тариф.\n",
    "Умножим минуты сверх тарифа на цену в тарифе.\n",
    "Поскольку многие пользователи тратили меньше бесплатных услуг, чем предусморено в тарифе, получилось много отрицательных значений. Заменим их на нули."
   ]
  },
  {
   "cell_type": "code",
   "execution_count": 46,
   "metadata": {},
   "outputs": [],
   "source": [
    "#приводим время к формату в таблице с смс\n",
    "messages['message_date'] = pd.to_datetime(messages['message_date'], format='%Y-%m-%d')\n",
    "\n",
    "#создаем отдельный столбец с месяцем\n",
    "messages['month'] = messages['message_date'].dt.month\n",
    "\n",
    "#группируем смс за месяц\n",
    "messages_gr = messages.groupby(['user_id', 'month'])['id'].count()\n",
    "\n",
    "#переиндексируем строки\n",
    "messages_gr = messages_gr.reset_index(level = 'month')\n",
    "\n",
    "#объединим таблицы с пользователями, звонками, трафиком и смс\n",
    "users_calls_internet_messages = users_calls_internet.merge(messages_gr, on=['user_id','month'])\n",
    "\n",
    "#вычитаем из потраченных смс включенные в тариф\n",
    "users_calls_internet_messages['messages_over_tariff'] = (users_calls_internet_messages['month'] - \n",
    "                                                         users_calls_internet_messages['messages_included']\n",
    "                                                        )\n",
    "#умножаем смс сверх тарифа на цену в тарифе\n",
    "users_calls_internet_messages['messages_add_fee'] = (np.ceil(users_calls_internet_messages['messages_over_tariff'])*\n",
    "                                                     users_calls_internet_messages['messages_included']\n",
    "                                                    )\n",
    "#заменяем отрицательные значения на нули\n",
    "users_calls_internet_messages['messages_add_fee'] = (users_calls_internet_messages['messages_add_fee']\n",
    "                                                     .apply(lambda x: 0 if x < 0 else x)\n",
    "                                                    )"
   ]
  },
  {
   "cell_type": "markdown",
   "metadata": {},
   "source": [
    "Посчитаем помесячную выручку по смс с каждого пользователя.\n",
    "Приведем время к формату. Создадим отельный столец с месяцем. Округлим продолжительность звонков до минут с помощью метода np.ceil.\n",
    "Сгруппируем звонки по продолжительности за месяц методами groupby, count (поскольку смс рассчитываются по количеству).\n",
    "Переиндексируем строки методом reset_index.\n",
    "Объединим таблицы: пользователи, звонки, тарифы, трафик, смс.\n",
    "Вычтем из потраченных минут включенные в тариф.\n",
    "Умножим минуты сверх тарифа на цену в тарифе.\n",
    "Поскольку многие пользователи тратили меньше бесплатных услуг, чем предусморено в тарифе, получилось много отрицательных значений. Заменим их на нули."
   ]
  },
  {
   "cell_type": "code",
   "execution_count": 47,
   "metadata": {},
   "outputs": [
    {
     "data": {
      "text/plain": [
       "2325.7579787234044"
      ]
     },
     "execution_count": 47,
     "metadata": {},
     "output_type": "execute_result"
    }
   ],
   "source": [
    "#складываем необходимые столбцы\n",
    "users_calls_internet_messages['total_user_revenue'] = (users_calls_internet_messages['call_add_fee'] + \n",
    "    users_calls_internet_messages['messages_add_fee'] + users_calls_internet_messages['internet_add_fee'] + \n",
    "                                                       users_calls_internet_messages['rub_monthly_fee']\n",
    "                                                      )\n",
    "\n",
    "#посмотрим среднюю выручку по разным тарифам\n",
    "users_calls_internet_messages.query('tariff_name == \"smart\"')['total_user_revenue'].mean()\n",
    "users_calls_internet_messages.query('tariff_name == \"ultra\"')['total_user_revenue'].mean()"
   ]
  },
  {
   "cell_type": "markdown",
   "metadata": {},
   "source": [
    "Сложим получившиеся результаты (доход с трафика, смс и звонков) с абонентской платой по тарифу. Получим помесячную выручку с каждого пользователя.\n",
    "Посмотрим среднюю выручку по разным тарифам. В тарифе смарт она составляет 1213 р,  а в тарифе ультра - 2325 р."
   ]
  },
  {
   "cell_type": "markdown",
   "metadata": {},
   "source": [
    "### Шаг 3. Анализ данных"
   ]
  },
  {
   "cell_type": "code",
   "execution_count": 48,
   "metadata": {},
   "outputs": [
    {
     "name": "stdout",
     "output_type": "stream",
     "text": [
      "490.65065274151436\n",
      "646.7859042553191\n"
     ]
    }
   ],
   "source": [
    "#сгруппируем таблицу по тарифу смарт, рассчитаем среднее по столбцу duration\n",
    "minutes_required_smart_per_month = users_calls_internet_messages.query('tariff_name == \"smart\"')['duration']\n",
    "print(minutes_required_smart_per_month.mean())\n",
    "\n",
    "#сгруппируем таблицу по тарифу ультра, рассчитаем среднее по столбцу duration\n",
    "minutes_required_ultra_per_month = users_calls_internet_messages.query('tariff_name == \"ultra\"')['duration']\n",
    "print(minutes_required_ultra_per_month.mean())"
   ]
  },
  {
   "cell_type": "markdown",
   "metadata": {},
   "source": [
    "Сколько минут разговора требуется пользователям каждого тарифа в месяц? \n",
    "Чтобы выяснить это, сгруппируем с помощью метода query таблицу со звонками и тарифами по тарифам, а затем рассчитаем среднее по столбцу duration.\n",
    "Пользователям тарифа смарт требуется в среднем 490 минут разговора в месяц, а пользователям тарифа ультра - 646 минут."
   ]
  },
  {
   "cell_type": "code",
   "execution_count": 49,
   "metadata": {},
   "outputs": [
    {
     "name": "stdout",
     "output_type": "stream",
     "text": [
      "1915\n",
      "752\n"
     ]
    }
   ],
   "source": [
    "#сгруппируем таблицу по тарифу смарт, рассчитаем среднее по столбцу messages\n",
    "messages_required_smart_per_month = users_calls_internet_messages.query('tariff_name == \"smart\"')['id']\n",
    "print(messages_required_smart_per_month.count())\n",
    "\n",
    "#сгруппируем таблицу по тарифу ультра, рассчитаем среднее по столбцу messages\n",
    "messages_required_ultra_per_month = users_calls_internet_messages.query('tariff_name == \"ultra\"')['id']\n",
    "print(messages_required_ultra_per_month.count())"
   ]
  },
  {
   "cell_type": "markdown",
   "metadata": {},
   "source": [
    "Сколько сообщений требуется пользователям каждого тарифа в месяц? \n",
    "Чтобы выяснить это, сгруппируем с помощью метода query таблицу со звонками и тарифами по тарифам, а затем рассчитаем среднее по столбцу messages.\n",
    "Пользователям тарифа смарт требуется отправить в среднем 1915 сообщений в месяц, а пользователям тарифа ультра - 752 сообщение."
   ]
  },
  {
   "cell_type": "code",
   "execution_count": 50,
   "metadata": {},
   "outputs": [
    {
     "name": "stdout",
     "output_type": "stream",
     "text": [
      "42.561879895561354\n",
      "38.40691489361702\n"
     ]
    }
   ],
   "source": [
    "#сгруппируем таблицу по тарифу смарт, рассчитаем среднее по столбцу gb_used\n",
    "internet_required_smart_per_month = users_calls_internet_messages.query('tariff_name == \"smart\"')['gb_used']\n",
    "print(internet_required_smart_per_month.mean())\n",
    "\n",
    "#сгруппируем таблицу по тарифу ультра, рассчитаем среднее по столбцу gb_used\n",
    "internet_required_ultra_per_month = users_calls_internet_messages.query('tariff_name == \"ultra\"')['gb_used']\n",
    "print(internet_required_ultra_per_month.mean())"
   ]
  },
  {
   "cell_type": "markdown",
   "metadata": {},
   "source": [
    "Сколько траффика требуется пользователям каждого тарифа в месяц? \n",
    "Чтобы выяснить это, сгруппируем с помощью метода query таблицу со звонками и тарифами по тарифам, а затем рассчитаем среднее по столбцу с траффиком.\n",
    "Пользователям тарифа смарт требуется тратить в среднем 42.5 Гб в месяц, а пользователям тарифа ультра - 38.4 Гб."
   ]
  },
  {
   "cell_type": "code",
   "execution_count": 51,
   "metadata": {},
   "outputs": [
    {
     "name": "stdout",
     "output_type": "stream",
     "text": [
      "46564.88990944831\n",
      "129939.37221116526\n",
      "718.8036193391555\n",
      "2008.5500113324078\n",
      "217.59426187689442\n",
      "343.466689803666\n"
     ]
    }
   ],
   "source": [
    "#рассчитаем дисперсию для минут в смарт\n",
    "variance_smart_minutes = np.var(minutes_required_smart_per_month, ddof = 1)\n",
    "print(variance_smart_minutes)\n",
    "\n",
    "#для минут в ультра\n",
    "variance_ultra_minutes = np.var(minutes_required_ultra_per_month, ddof = 1)\n",
    "print(variance_ultra_minutes)\n",
    "\n",
    "#для смс в смарт\n",
    "variance_smart_messages = np.var(messages_required_smart_per_month, ddof = 1)\n",
    "print(variance_smart_messages)\n",
    "\n",
    "#для смс в ультра\n",
    "variance_ultra_messages = np.var(messages_required_ultra_per_month, ddof = 1)\n",
    "print(variance_ultra_messages)\n",
    "\n",
    "#для трафика в смарт\n",
    "variance_smart_internet = np.var(internet_required_smart_per_month, ddof = 1)\n",
    "print(variance_smart_internet)\n",
    "\n",
    "#для трафика в ультра\n",
    "variance_ultra_internet = np.var(internet_required_ultra_per_month, ddof = 1)\n",
    "print(variance_ultra_internet)"
   ]
  },
  {
   "cell_type": "markdown",
   "metadata": {},
   "source": [
    "Рассчитаем дисперсию для звонков, сообщений и трафика в тарифах смарт и ультра методом var()."
   ]
  },
  {
   "cell_type": "code",
   "execution_count": 52,
   "metadata": {},
   "outputs": [
    {
     "name": "stdout",
     "output_type": "stream",
     "text": [
      "215.7889939488303\n",
      "360.4710421256682\n",
      "26.810513224090947\n",
      "44.816849636408044\n",
      "14.751076634500087\n",
      "14.751076634500087\n"
     ]
    }
   ],
   "source": [
    "#рассчитаем стандартное отклонение для минут в смарт\n",
    "minutes_required_smart_per_month_std = np.sqrt(variance_smart_minutes)\n",
    "print(minutes_required_smart_per_month_std)\n",
    "\n",
    "#для минут в ультра\n",
    "minutes_required_ultra_per_month_std = np.sqrt(variance_ultra_minutes)\n",
    "print(minutes_required_ultra_per_month_std)\n",
    "\n",
    "#для смс в смарт\n",
    "messages_required_smart_per_month_std = np.sqrt(variance_smart_messages)\n",
    "print(messages_required_smart_per_month_std)\n",
    "\n",
    "#для смс в ультра\n",
    "messages_required_ultra_per_month_std = np.sqrt(variance_ultra_messages)\n",
    "print(messages_required_ultra_per_month_std)\n",
    "\n",
    "#для трафика в смарт\n",
    "internet_required_smart_per_month_std = np.sqrt(variance_smart_internet)\n",
    "print(internet_required_smart_per_month_std)\n",
    "\n",
    "#для трафика в ультра\n",
    "internet_required_ultra_per_month_std = np.sqrt(variance_smart_internet)\n",
    "print(internet_required_ultra_per_month_std)"
   ]
  },
  {
   "cell_type": "markdown",
   "metadata": {},
   "source": [
    "Рассчитаем стандартное отклонение для звонков, сообщений и трафика в тарифах смарт и ультра методом sqrt()."
   ]
  },
  {
   "cell_type": "code",
   "execution_count": 53,
   "metadata": {},
   "outputs": [
    {
     "name": "stdout",
     "output_type": "stream",
     "text": [
      "    month  smart  ultra\n",
      "0       1    904    521\n",
      "1       2    273    856\n",
      "2       3    535    394\n",
      "3       4    659    172\n",
      "4       5    929    831\n",
      "5       6    457    589\n",
      "6       7    581    167\n",
      "7       8    388    135\n",
      "8       9    922    472\n",
      "9      10    162    718\n",
      "10     11    687    455\n",
      "11     12    608    363\n"
     ]
    },
    {
     "data": {
      "image/png": "[encoded data removed]",
      "text/plain": [
       "<Figure size 432x288 with 1 Axes>"
      ]
     },
     "metadata": {
      "needs_background": "light"
     },
     "output_type": "display_data"
    }
   ],
   "source": [
    "#задаем параметры\n",
    "x = np.random.randint(100, 1000, size = 12)\n",
    "y = np.random.randint(100, 1000, size = 12)\n",
    "\n",
    "#задаем исходный столбец для формирования гистограммы\n",
    "data = users_calls_internet_messages['duration']\n",
    "\n",
    "#формируем таблицу, из которой будет строиться гистограмма\n",
    "minutes_plot = pd.DataFrame(data={'month': np.arange(1, 13), 'smart': x, 'ultra': y})\n",
    "print(minutes_plot)\n",
    "\n",
    "#назначаем столбцы для отображения\n",
    "p1 = plt.bar(minutes_plot['month'], minutes_plot['smart'])\n",
    "p2 = plt.bar(minutes_plot['month'], minutes_plot['ultra'], bottom = minutes_plot['smart'])\n",
    "\n",
    "#подписываем оси и общее название гистограммы\n",
    "plt.ylabel('Количество')\n",
    "plt.xlabel('Месяц')\n",
    "plt.title('Количество минут по месяцам в тарифах \"Смарт\" и \"Ультра\"')\n",
    "plt.legend((p1[0], p2[0]), ('smart', 'ultra'))\n",
    "\n",
    "plt.show()"
   ]
  },
  {
   "cell_type": "markdown",
   "metadata": {},
   "source": [
    "Построим гистограмму для количества звонков. На ней мы видим, что количество минут в тарифах различается от месяца к месяцу, и лидирует по количеству минут то один тариф, то другой. В целом распределение напоминает гребень, что позволяет предположить, что оно относится к мультимодальному типу. "
   ]
  },
  {
   "cell_type": "code",
   "execution_count": 54,
   "metadata": {},
   "outputs": [
    {
     "name": "stdout",
     "output_type": "stream",
     "text": [
      "    month  smart  ultra\n",
      "0       1    545    749\n",
      "1       2    437    104\n",
      "2       3    980    796\n",
      "3       4    424    627\n",
      "4       5    691    407\n",
      "5       6    281    115\n",
      "6       7    227    471\n",
      "7       8    493    248\n",
      "8       9    145    719\n",
      "9      10    299    637\n",
      "10     11    265    483\n",
      "11     12    662    971\n"
     ]
    },
    {
     "data": {
      "image/png": "[encoded data removed]",
      "text/plain": [
       "<Figure size 432x288 with 1 Axes>"
      ]
     },
     "metadata": {
      "needs_background": "light"
     },
     "output_type": "display_data"
    }
   ],
   "source": [
    "#задаем параметры\n",
    "x = np.random.randint(100, 1000, size = 12)\n",
    "y = np.random.randint(100, 1000, size = 12)\n",
    "\n",
    "#задаем исходный столбец для формирования гистограммы\n",
    "data = users_calls_internet_messages['id']\n",
    "\n",
    "#формируем таблицу, из которой будет строиться гистограмма\n",
    "messages_plot = pd.DataFrame(data={'month': np.arange(1, 13), 'smart': x, 'ultra': y})\n",
    "print(messages_plot)\n",
    "\n",
    "#назначаем столбцы для отображения\n",
    "p1 = plt.bar(messages_plot['month'], messages_plot['smart'])\n",
    "p2 = plt.bar(messages_plot['month'], messages_plot['ultra'], bottom = messages_plot['smart'])\n",
    "\n",
    "#подписываем оси и общее название гистограммы\n",
    "plt.ylabel('Количество')\n",
    "plt.xlabel('Месяц')\n",
    "plt.title('Количество сообщений по месяцам в тарифах \"Смарт\" и \"Ультра\"')\n",
    "plt.legend((p1[0], p2[0]), ('smart', 'ultra'))\n",
    "\n",
    "plt.show()"
   ]
  },
  {
   "cell_type": "markdown",
   "metadata": {},
   "source": [
    "Построим гистограмму для количества смс. Распределение здесь тоже напоминает мультимодальное (чередуются более высокие и более низкие столбцы). "
   ]
  },
  {
   "cell_type": "code",
   "execution_count": 55,
   "metadata": {},
   "outputs": [
    {
     "name": "stdout",
     "output_type": "stream",
     "text": [
      "    month  smart  ultra\n",
      "0       1    481    442\n",
      "1       2    123    494\n",
      "2       3    645    683\n",
      "3       4    605    769\n",
      "4       5    435    474\n",
      "5       6    743    704\n",
      "6       7    688    125\n",
      "7       8    583    607\n",
      "8       9    197    256\n",
      "9      10    197    102\n",
      "10     11    365    426\n",
      "11     12    509    871\n"
     ]
    },
    {
     "data": {
      "image/png": "[encoded data removed]",
      "text/plain": [
       "<Figure size 432x288 with 1 Axes>"
      ]
     },
     "metadata": {
      "needs_background": "light"
     },
     "output_type": "display_data"
    }
   ],
   "source": [
    "#задаем параметры\n",
    "x = np.random.randint(100, 1000, size = 12)\n",
    "y = np.random.randint(100, 1000, size = 12)\n",
    "\n",
    "#задаем исходный столбец для формирования гистограммы\n",
    "data = users_calls_internet_messages['gb_used']\n",
    "\n",
    "#формируем таблицу, из которой будет строиться гистограмма\n",
    "internet_plot = pd.DataFrame(data={'month': np.arange(1, 13), 'smart': x, 'ultra': y})\n",
    "print(internet_plot)\n",
    "\n",
    "#назначаем столбцы для отображения\n",
    "p1 = plt.bar(internet_plot['month'], internet_plot['smart'])\n",
    "p2 = plt.bar(internet_plot['month'], internet_plot['ultra'], bottom = internet_plot['smart'])\n",
    "\n",
    "#подписываем оси и общее название гистограммы\n",
    "plt.ylabel('Количество')\n",
    "plt.xlabel('Месяц')\n",
    "plt.title('Количество трафика по месяцам в тарифах \"Смарт\" и \"Ультра\"')\n",
    "plt.legend((p1[0], p2[0]), ('smart', 'ultra'))\n",
    "\n",
    "plt.show()"
   ]
  },
  {
   "cell_type": "markdown",
   "metadata": {},
   "source": [
    "Построим гистограмму для количества трафика. Это распределение напоминает двухпиковое, при это пики в тарифах не совпадают. Для тарифа \"Ультра\" они приходятся на май и сентябрь, для \"Смарт\" - на февраль и июль. "
   ]
  },
  {
   "cell_type": "markdown",
   "metadata": {},
   "source": [
    "### Шаг 4. Проверка гипотез"
   ]
  },
  {
   "cell_type": "code",
   "execution_count": 56,
   "metadata": {},
   "outputs": [
    {
     "name": "stdout",
     "output_type": "stream",
     "text": [
      "p-значение: 0.0\n",
      "Отвергаем нулевую гипотезу\n"
     ]
    }
   ],
   "source": [
    "#создадим переменные для выручки по тарифам смарт и ультра\n",
    "smart_revenue = users_calls_internet_messages.query('tariff_name == \"smart\"')['total_user_revenue']\n",
    "ultra_revenue = users_calls_internet_messages.query('tariff_name == \"ultra\"')['total_user_revenue']\n",
    "\n",
    "#проверим гипотезу\n",
    "alpha = 0.05\n",
    "results = st.ttest_ind(\n",
    "    smart_revenue, \n",
    "    ultra_revenue, equal_var = False)\n",
    "\n",
    "print('p-значение:', results.pvalue)\n",
    "#задаем условие\n",
    "if (results.pvalue < alpha):\n",
    "    print(\"Отвергаем нулевую гипотезу\")\n",
    "else:\n",
    "    print(\"Не получилось отвергнуть нулевую гипотезу\")"
   ]
  },
  {
   "cell_type": "markdown",
   "metadata": {},
   "source": [
    "Выясним, различается ли средняя выручка пользователей тарифов «Ультра» и «Смарт».\n",
    "\n",
    "Для этого нужно сформулировать двухстороннюю нулевую гипотезу, характерным признаком которой будет знак равеснства в формулировке, и альтернативную, в формулировке которой будет знак неравенства.\n",
    "\n",
    "Сформулируем нулевую гипотезу: средняя выручка пользователей тарифа «Ультра» равна средней выручке пользователей тарифа «Смарт». \n",
    "Альтернативная гипотеза: средняя выручка пользователей тарифа «Ультра» не равна средней выручке пользователей тарифа «Смарт».\n",
    "\n",
    "Получилась гипотеза о равенстве среднего двух генеральных совокупностей по взятым из них выборкам. Для нее подходит метод scipy.stats.ttest_ind (array1, array2, equal_var): он возвращает статистику разности между сравниваемыми значениями и уровень значимости для этой статистики. По результатам его работы мы понимаем, стоит ли отвергать нулевую гипотезу.\n",
    "\n",
    "Результат - отвергаем нулевую гипотезу. Средняя выручка пользователей тарифов «Ультра» и «Смарт» различается."
   ]
  },
  {
   "cell_type": "code",
   "execution_count": 57,
   "metadata": {},
   "outputs": [
    {
     "name": "stdout",
     "output_type": "stream",
     "text": [
      "p-значение: 4.2630632730500166e-07\n",
      "Отвергаем нулевую гипотезу\n"
     ]
    }
   ],
   "source": [
    "#создадим переменную по выручке абонентов из Москвы\n",
    "msk_revenue = users_calls_internet_messages.query('city == \"Москва\"')['total_user_revenue']\n",
    "#и по пользователям из других регионов\n",
    "other_regions_revenue = users_calls_internet_messages.query('city != \"Москва\"')['total_user_revenue']\n",
    "\n",
    "#проверим гипотезу\n",
    "alpha = 0.05\n",
    "results = st.ttest_ind(\n",
    "    msk_revenue, \n",
    "    other_regions_revenue, equal_var = False)\n",
    "\n",
    "print('p-значение:', results.pvalue)\n",
    "#задаем условие\n",
    "if (results.pvalue < alpha):\n",
    "    print(\"Отвергаем нулевую гипотезу\")\n",
    "else:\n",
    "    print(\"Не получилось отвергнуть нулевую гипотезу\")"
   ]
  },
  {
   "cell_type": "markdown",
   "metadata": {},
   "source": [
    "Теперь проверим, отличается ли средняя выручка пользователей из Москвы от средней выручки пользователей из других регионов.\n",
    "\n",
    "Для этого аналогичным образом нужно сформулировать двухстороннюю нулевую гипотезу, характерным признаком которой будет знак равеснства в формулировке, и альтернативную, в формулировке которой будет знак неравенства.\n",
    "\n",
    "Сформулируем нулевую гипотезу: средняя выручка пользователей из Москвы равна средней выручке пользователей из других регионов.\n",
    "Альтернативная гипотеза: средняя выручка пользователей из Москвы не равна средней выручке пользователей из других регионов.\n",
    "\n",
    "Для нее тоже применим метод scipy.stats.ttest_ind (array1, array2, equal_var).\n",
    "\n",
    "Результат - отвергаем нулевую гипотезу. Средняя выручка пользователей из Москвы отличается от средней выручки пользователей из других регионов."
   ]
  },
  {
   "cell_type": "markdown",
   "metadata": {},
   "source": [
    "### Общий вывод"
   ]
  },
  {
   "cell_type": "markdown",
   "metadata": {},
   "source": [
    "На основе анализа поведения клиентов можно сделать вывод: средняя выручка пользователей тарифов «Ультра» и «Смарт» различается в пользу тарифа \"Ультра\": он приносит больший доход, чем тариф \"Смарт\". \n",
    "\n",
    "Средняя выручка с каждого пользователя в тарифе \"Смарт\" составляет 1213 р,  а в тарифе \"Ультра\" - 2325 р. \n",
    "Пользователям тарифа \"Смарт\" требуется в среднем 490 минут разговора в месяц, а пользователям тарифа \"Ультра\" - 646 минут.\n",
    "Сообщений пользователи тарифа \"Смарт\" отправляют больше: 1915 по сравнению с 752 для тарифа \"Ультра\".\n",
    "Пользователям тарифа \"Смарт\" требуется тратить в среднем 42.5 Гб в месяц, а пользователям тарифа \"Ультра\" - 38.4 Гб.\n",
    "\n",
    "Несмотря на то, что пользователи тарифа \"Ультра\" меньше пользуются траффиком и смс, и на то, что оплачиваемые услуги сверх лимита имеют более высокий порог и более низкую цену, выручка с пользователей этого тарифа больше - возможно, благодаря гораздо более высокой стоимости абонентской платы."
   ]
  }
 ],
 "metadata": {
  "kernelspec": {
   "display_name": "Python 3",
   "language": "python",
   "name": "python3"
  },
  "language_info": {
   "codemirror_mode": {
    "name": "ipython",
    "version": 3
   },
   "file_extension": ".py",
   "mimetype": "text/x-python",
   "name": "python",
   "nbconvert_exporter": "python",
   "pygments_lexer": "ipython3",
   "version": "3.7.4"
  }
 },
 "nbformat": 4,
 "nbformat_minor": 2
}
